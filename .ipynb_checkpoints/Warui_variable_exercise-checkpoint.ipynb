{
 "cells": [
  {
   "cell_type": "markdown",
   "id": "252ba475-9806-454e-95b0-56b40ee3590d",
   "metadata": {},
   "source": [
    "# M&E To Do List Assignment"
   ]
  },
  {
   "cell_type": "code",
   "execution_count": null,
   "id": "3c253a5c-e282-49c4-9e3a-d45b481f0d74",
   "metadata": {},
   "outputs": [],
   "source": [
    "import sys\n",
    "# Task list to hold the tasks\n",
    "tasks = []\n",
    "\n",
    "def add_task(task):\n",
    "    tasks.append({'task': task, 'completed': False})\n",
    "    print(f\"Task added: {task}\")\n",
    "\n",
    "def complete_task(idx):\n",
    "    if 0 <= idx < len(tasks):\n",
    "        tasks[idx]['completed'] = True\n",
    "        print(f\"Task marked as completed: {tasks[idx]['task']}\")\n",
    "    else:\n",
    "        print(\"Invalid task index\")\n",
    "\n",
    "def list_tasks():\n",
    "    if tasks:\n",
    "        for i, task in enumerate(tasks):\n",
    "            status = \"Completed\" if task['completed'] else \"Pending\"\n",
    "            print(f\"{i}. {task['task']} - {status}\")\n",
    "    else:\n",
    "        print(\"No tasks available\")\n",
    "\n",
    "def remove_task(idx):\n",
    "    if 0 <= idx < len(tasks):\n",
    "        removed_task = tasks.pop(idx)\n",
    "        print(f\"Task removed: {removed_task['task']}\")\n",
    "    else:\n",
    "        print(\"Invalid task index\")\n",
    "\n",
    "def main():\n",
    "    while True:\n",
    "        command = input(\"Enter a command (add, complete, list, remove, quit): \").strip()\n",
    "        \n",
    "        if command == 'add':\n",
    "            task = input(\"Enter a task: \").strip()\n",
    "            add_task(task)\n",
    "        elif command == 'complete':\n",
    "            idx = int(input(\"Enter the task index to mark as completed: \").strip())\n",
    "            complete_task(idx)\n",
    "        elif command == 'list':\n",
    "            list_tasks()\n",
    "        elif command == 'remove':\n",
    "            idx = int(input(\"Enter the task index to remove: \").strip())\n",
    "            remove_task(idx)\n",
    "        elif command == 'quit':\n",
    "            print(\"Exiting To-Do List Manager.\")\n",
    "            sys.exit()\n",
    "        else:\n",
    "            print(\"Unknown command. Please try again.\")\n",
    "\n",
    "if __name__ == \"__main__\":\n",
    "    main()"
   ]
  },
  {
   "cell_type": "code",
   "execution_count": null,
   "id": "7115012b-45db-464f-8d6a-ac6c49c1f117",
   "metadata": {},
   "outputs": [],
   "source": []
  },
  {
   "cell_type": "code",
   "execution_count": null,
   "id": "e0896a2d-9b98-4858-8bec-3976e9132af9",
   "metadata": {},
   "outputs": [],
   "source": []
  }
 ],
 "metadata": {
  "kernelspec": {
   "display_name": "Python 3 (ipykernel)",
   "language": "python",
   "name": "python3"
  },
  "language_info": {
   "codemirror_mode": {
    "name": "ipython",
    "version": 3
   },
   "file_extension": ".py",
   "mimetype": "text/x-python",
   "name": "python",
   "nbconvert_exporter": "python",
   "pygments_lexer": "ipython3",
   "version": "3.11.7"
  }
 },
 "nbformat": 4,
 "nbformat_minor": 5
}
