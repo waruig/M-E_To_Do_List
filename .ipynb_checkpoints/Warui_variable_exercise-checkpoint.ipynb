{
 "cells": [
  {
   "cell_type": "code",
   "execution_count": 1,
   "id": "e94006ba-1877-4503-9d21-762d848f4b62",
   "metadata": {},
   "outputs": [],
   "source": [
    "travel_month = \"January\""
   ]
  },
  {
   "cell_type": "code",
   "execution_count": 2,
   "id": "551acd90-0ab2-442f-b076-0113e9eed955",
   "metadata": {},
   "outputs": [
    {
     "data": {
      "text/plain": [
       "'January'"
      ]
     },
     "execution_count": 2,
     "metadata": {},
     "output_type": "execute_result"
    }
   ],
   "source": [
    "travel_month"
   ]
  },
  {
   "cell_type": "code",
   "execution_count": 3,
   "id": "b5c95bb2-98cf-4e30-90f8-8c7acf27f64f",
   "metadata": {},
   "outputs": [],
   "source": [
    "travel_month = \"December\""
   ]
  },
  {
   "cell_type": "code",
   "execution_count": 4,
   "id": "61a4a38f-b23a-48cc-aabc-505a0d5b8909",
   "metadata": {},
   "outputs": [
    {
     "data": {
      "text/plain": [
       "'December'"
      ]
     },
     "execution_count": 4,
     "metadata": {},
     "output_type": "execute_result"
    }
   ],
   "source": [
    "travel_month"
   ]
  },
  {
   "cell_type": "code",
   "execution_count": 5,
   "id": "69180038-bd46-4983-a95e-525b497c1d09",
   "metadata": {},
   "outputs": [],
   "source": [
    "number_of_weeks = None"
   ]
  },
  {
   "cell_type": "code",
   "execution_count": 6,
   "id": "3e77261c-54cf-4f5c-b80d-356c00ed5175",
   "metadata": {},
   "outputs": [],
   "source": [
    "number_of_weeks"
   ]
  },
  {
   "cell_type": "code",
   "execution_count": 7,
   "id": "7d5905b6-3dc8-45e7-8dd0-275a8442a146",
   "metadata": {},
   "outputs": [],
   "source": [
    "number_of_weeks = \"2\""
   ]
  },
  {
   "cell_type": "code",
   "execution_count": 8,
   "id": "79b4aa1c-3039-4a47-b6cb-83d2e79b3c83",
   "metadata": {},
   "outputs": [
    {
     "data": {
      "text/plain": [
       "'2'"
      ]
     },
     "execution_count": 8,
     "metadata": {},
     "output_type": "execute_result"
    }
   ],
   "source": [
    "number_of_weeks"
   ]
  },
  {
   "cell_type": "code",
   "execution_count": 9,
   "id": "05c5504b-f0fd-464f-914b-8ce70a33c936",
   "metadata": {},
   "outputs": [
    {
     "name": "stdout",
     "output_type": "stream",
     "text": [
      "i'll be out of the office for 2In December\n"
     ]
    }
   ],
   "source": [
    "print(\"i'll be out of the office for \" + str(number_of_weeks) + \"In \" + travel_month)"
   ]
  },
  {
   "cell_type": "code",
   "execution_count": 10,
   "id": "04938a7f-90c6-497c-aba4-466054497633",
   "metadata": {},
   "outputs": [
    {
     "name": "stdout",
     "output_type": "stream",
     "text": [
      "i'll be out of the office for DecemberIn 2\n"
     ]
    }
   ],
   "source": [
    "print(\"i'll be out of the office for \" + str(travel_month) + \"In \" + number_of_weeks)"
   ]
  },
  {
   "cell_type": "code",
   "execution_count": 11,
   "id": "15b42dce-809a-406a-a668-a4a5ea14bf33",
   "metadata": {},
   "outputs": [
    {
     "name": "stdout",
     "output_type": "stream",
     "text": [
      "i'll be out of the office for 2weeks December\n"
     ]
    }
   ],
   "source": [
    "print(\"i'll be out of the office for \" +str(number_of_weeks) + \"weeks \" + travel_month)"
   ]
  },
  {
   "cell_type": "code",
   "execution_count": 12,
   "id": "cbe7cc48-b6a5-4e31-8c5e-ab9104abe1a1",
   "metadata": {},
   "outputs": [
    {
     "name": "stdout",
     "output_type": "stream",
     "text": [
      "i'll be out of the office for 2weeks in December\n"
     ]
    }
   ],
   "source": [
    "print(\"i'll be out of the office for \" +str(number_of_weeks) + \"weeks \" + \"in \" + travel_month)"
   ]
  },
  {
   "cell_type": "code",
   "execution_count": 13,
   "id": "0508e2b1-77d5-467a-85e1-fc40aeadc57e",
   "metadata": {},
   "outputs": [
    {
     "name": "stdout",
     "output_type": "stream",
     "text": [
      "i'll be out of the office for 2 weeks in December\n"
     ]
    }
   ],
   "source": [
    "print(\"i'll be out of the office for \" +str(number_of_weeks) + \" weeks \" + \"in \" + travel_month)"
   ]
  },
  {
   "cell_type": "code",
   "execution_count": 14,
   "id": "080fc966-04bb-4534-bd02-321738764e02",
   "metadata": {},
   "outputs": [],
   "source": [
    "travel_year = \"2025\""
   ]
  },
  {
   "cell_type": "code",
   "execution_count": 15,
   "id": "4dd431c8-e157-4444-b42c-05823905ad1e",
   "metadata": {},
   "outputs": [
    {
     "data": {
      "text/plain": [
       "'2025'"
      ]
     },
     "execution_count": 15,
     "metadata": {},
     "output_type": "execute_result"
    }
   ],
   "source": [
    "travel_year"
   ]
  },
  {
   "cell_type": "code",
   "execution_count": 16,
   "id": "4e4a9538-bad1-4a76-889f-b657c166014a",
   "metadata": {},
   "outputs": [
    {
     "name": "stdout",
     "output_type": "stream",
     "text": [
      "i'll be out of the office for 2 weeks in December2025\n"
     ]
    }
   ],
   "source": [
    "print(\"i'll be out of the office for \" +str(number_of_weeks) + \" weeks \" + \"in \" + travel_month + travel_year)"
   ]
  },
  {
   "cell_type": "code",
   "execution_count": 17,
   "id": "2b6ccc13-43d4-4402-b4c6-0a3536c167c2",
   "metadata": {},
   "outputs": [
    {
     "name": "stdout",
     "output_type": "stream",
     "text": [
      "i'll be out of the office for 2 weeks in December\n"
     ]
    }
   ],
   "source": [
    "print(\"i'll be out of the office for {weeks} weeks in {month}\".format(weeks = str(number_of_weeks), month = travel_month))"
   ]
  },
  {
   "cell_type": "code",
   "execution_count": 18,
   "id": "7d7f959a-a054-4d9c-bd92-a03162624eea",
   "metadata": {},
   "outputs": [
    {
     "name": "stdout",
     "output_type": "stream",
     "text": [
      "i'll be out of the office for 2 weeks in December\n"
     ]
    }
   ],
   "source": [
    "print(f\"i'll be out of the office for {str(number_of_weeks)} weeks in {travel_month}\")"
   ]
  },
  {
   "cell_type": "code",
   "execution_count": 19,
   "id": "b47aed23-c9ff-4019-aceb-1e5a0fbc3de5",
   "metadata": {},
   "outputs": [
    {
     "name": "stdout",
     "output_type": "stream",
     "text": [
      "i'll be out of the office for 2 weeks in December\n"
     ]
    }
   ],
   "source": [
    "print(\"i'll be out of the office for {weeks} weeks in {month}\".format(weeks = str(number_of_weeks), month = travel_month, year = travel_year))"
   ]
  },
  {
   "cell_type": "markdown",
   "id": "d76f606f-de44-40ac-9cd3-124faaac6227",
   "metadata": {},
   "source": [
    "# control_flow_lab"
   ]
  },
  {
   "cell_type": "code",
   "execution_count": 20,
   "id": "bf3eef46-949b-4b76-8d9e-26e456475710",
   "metadata": {},
   "outputs": [],
   "source": [
    "number_50 = 500\n",
    "\n",
    "my_number = None\n",
    "\n",
    "if number_50 > 100:\n",
    "\n",
    "   # if number_50 is greater than 100, assign the `my_number` variable to the number 100\n",
    "    my_number = 100\n",
    "\n",
    "elif number_50 > 50:\n",
    "\n",
    "   # if number_50 is greater than 100, assign the `my_number` variable to the number 50\n",
    "    my_number = 50\n",
    "\n",
    "else:\n",
    "\n",
    "   # else assign the `my_number` variable to 0\n",
    "    my_number = 0"
   ]
  },
  {
   "cell_type": "code",
   "execution_count": 21,
   "id": "48b435f2-770b-4c6b-9574-7e4192faacd8",
   "metadata": {},
   "outputs": [
    {
     "data": {
      "text/plain": [
       "100"
      ]
     },
     "execution_count": 21,
     "metadata": {},
     "output_type": "execute_result"
    }
   ],
   "source": [
    "my_number"
   ]
  },
  {
   "cell_type": "markdown",
   "id": "da21ed66-fe43-4730-a884-479a9aec3c38",
   "metadata": {},
   "source": [
    "# list_of_coutries"
   ]
  },
  {
   "cell_type": "code",
   "execution_count": 22,
   "id": "5f20e6ae-0e1a-47c9-9a2d-1256c9368224",
   "metadata": {},
   "outputs": [],
   "source": [
    "countries = ['Croatia',\n",
    "\n",
    " 'USA',\n",
    "\n",
    " 'Argentina',\n",
    "\n",
    " 'Mexico',\n",
    "\n",
    " 'USA',\n",
    "\n",
    " 'Morocco',\n",
    "\n",
    " 'New Mexico',\n",
    "\n",
    " 'Finland',\n",
    "\n",
    " 'Argentina',\n",
    "\n",
    " 'Italy',\n",
    "\n",
    " 'Canada',\n",
    "\n",
    " 'South Korea']"
   ]
  },
  {
   "cell_type": "code",
   "execution_count": 23,
   "id": "e2a3ca1a-4e42-4197-8b14-530092846ef7",
   "metadata": {},
   "outputs": [
    {
     "data": {
      "text/plain": [
       "['Croatia',\n",
       " 'USA',\n",
       " 'Argentina',\n",
       " 'Mexico',\n",
       " 'USA',\n",
       " 'Morocco',\n",
       " 'New Mexico',\n",
       " 'Finland',\n",
       " 'Argentina',\n",
       " 'Italy',\n",
       " 'Canada',\n",
       " 'South Korea']"
      ]
     },
     "execution_count": 23,
     "metadata": {},
     "output_type": "execute_result"
    }
   ],
   "source": [
    "countries"
   ]
  },
  {
   "cell_type": "code",
   "execution_count": 24,
   "id": "491c0430-5ccc-420b-a4ca-f4c04de28164",
   "metadata": {},
   "outputs": [],
   "source": [
    "Italy = countries [-3]"
   ]
  },
  {
   "cell_type": "code",
   "execution_count": 25,
   "id": "bcab8a9f-0fef-43d1-afc5-596ec504ad09",
   "metadata": {},
   "outputs": [
    {
     "data": {
      "text/plain": [
       "'Italy'"
      ]
     },
     "execution_count": 25,
     "metadata": {},
     "output_type": "execute_result"
    }
   ],
   "source": [
    "Italy"
   ]
  },
  {
   "cell_type": "code",
   "execution_count": 26,
   "id": "c2f46f67-b466-42d8-8e14-93ce5b7ecbc9",
   "metadata": {},
   "outputs": [],
   "source": [
    "Mexico = countries [-9]"
   ]
  },
  {
   "cell_type": "code",
   "execution_count": 27,
   "id": "cb14771b-ffe2-40c8-9024-60b48868d79d",
   "metadata": {},
   "outputs": [
    {
     "data": {
      "text/plain": [
       "'Mexico'"
      ]
     },
     "execution_count": 27,
     "metadata": {},
     "output_type": "execute_result"
    }
   ],
   "source": [
    "Mexico"
   ]
  },
  {
   "cell_type": "code",
   "execution_count": 28,
   "id": "45a26645-fb25-476a-ae3e-c503381f0954",
   "metadata": {},
   "outputs": [],
   "source": [
    "Croatia = countries [0]"
   ]
  },
  {
   "cell_type": "code",
   "execution_count": 29,
   "id": "700112cb-428d-45d5-8dfa-ea59ef2a943c",
   "metadata": {},
   "outputs": [
    {
     "data": {
      "text/plain": [
       "'Croatia'"
      ]
     },
     "execution_count": 29,
     "metadata": {},
     "output_type": "execute_result"
    }
   ],
   "source": [
    "Croatia"
   ]
  },
  {
   "cell_type": "code",
   "execution_count": 30,
   "id": "038fc17a-aa87-4708-9463-68ec89ad5f38",
   "metadata": {},
   "outputs": [],
   "source": [
    "countries [-1] = \"Thailand\""
   ]
  },
  {
   "cell_type": "code",
   "execution_count": 31,
   "id": "c7499e95-6db2-427d-af6d-d5a42cb77d91",
   "metadata": {},
   "outputs": [
    {
     "data": {
      "text/plain": [
       "['Croatia',\n",
       " 'USA',\n",
       " 'Argentina',\n",
       " 'Mexico',\n",
       " 'USA',\n",
       " 'Morocco',\n",
       " 'New Mexico',\n",
       " 'Finland',\n",
       " 'Argentina',\n",
       " 'Italy',\n",
       " 'Canada',\n",
       " 'Thailand']"
      ]
     },
     "execution_count": 31,
     "metadata": {},
     "output_type": "execute_result"
    }
   ],
   "source": [
    "countries"
   ]
  },
  {
   "cell_type": "code",
   "execution_count": 32,
   "id": "d3f4bdc9-2225-4213-9b5a-2e491b4405df",
   "metadata": {},
   "outputs": [],
   "source": [
    "countries [-9] = \"Kenya\""
   ]
  },
  {
   "cell_type": "code",
   "execution_count": 33,
   "id": "82a1bde3-33ed-4350-9232-a94a7343c44b",
   "metadata": {},
   "outputs": [
    {
     "data": {
      "text/plain": [
       "['Croatia',\n",
       " 'USA',\n",
       " 'Argentina',\n",
       " 'Kenya',\n",
       " 'USA',\n",
       " 'Morocco',\n",
       " 'New Mexico',\n",
       " 'Finland',\n",
       " 'Argentina',\n",
       " 'Italy',\n",
       " 'Canada',\n",
       " 'Thailand']"
      ]
     },
     "execution_count": 33,
     "metadata": {},
     "output_type": "execute_result"
    }
   ],
   "source": [
    "countries"
   ]
  },
  {
   "cell_type": "code",
   "execution_count": 34,
   "id": "11175ec3-59c2-433e-a806-489b2d85fa04",
   "metadata": {},
   "outputs": [],
   "source": [
    "countries [+1] = \"South Korea\""
   ]
  },
  {
   "cell_type": "code",
   "execution_count": 35,
   "id": "cea3a6c6-4905-431c-a3da-f1bb651731a2",
   "metadata": {},
   "outputs": [
    {
     "data": {
      "text/plain": [
       "['Croatia',\n",
       " 'South Korea',\n",
       " 'Argentina',\n",
       " 'Kenya',\n",
       " 'USA',\n",
       " 'Morocco',\n",
       " 'New Mexico',\n",
       " 'Finland',\n",
       " 'Argentina',\n",
       " 'Italy',\n",
       " 'Canada',\n",
       " 'Thailand']"
      ]
     },
     "execution_count": 35,
     "metadata": {},
     "output_type": "execute_result"
    }
   ],
   "source": [
    "countries"
   ]
  },
  {
   "cell_type": "code",
   "execution_count": 36,
   "id": "3e00b441-b828-4083-8141-b09c2dea7770",
   "metadata": {},
   "outputs": [],
   "source": [
    "countries [+11] = \"South Korea\""
   ]
  },
  {
   "cell_type": "code",
   "execution_count": 37,
   "id": "9af51004-e58d-4b37-8256-38344aba86e3",
   "metadata": {},
   "outputs": [
    {
     "data": {
      "text/plain": [
       "['Croatia',\n",
       " 'South Korea',\n",
       " 'Argentina',\n",
       " 'Kenya',\n",
       " 'USA',\n",
       " 'Morocco',\n",
       " 'New Mexico',\n",
       " 'Finland',\n",
       " 'Argentina',\n",
       " 'Italy',\n",
       " 'Canada',\n",
       " 'South Korea']"
      ]
     },
     "execution_count": 37,
     "metadata": {},
     "output_type": "execute_result"
    }
   ],
   "source": [
    "countries"
   ]
  },
  {
   "cell_type": "code",
   "execution_count": 38,
   "id": "0da8935d-8fca-434c-83b7-c19600f59d5a",
   "metadata": {},
   "outputs": [],
   "source": [
    "countries.append(\"South Korea\")"
   ]
  },
  {
   "cell_type": "code",
   "execution_count": 39,
   "id": "98bf4db0-fd5c-4504-a7aa-8c6739876e25",
   "metadata": {},
   "outputs": [
    {
     "data": {
      "text/plain": [
       "['Croatia',\n",
       " 'South Korea',\n",
       " 'Argentina',\n",
       " 'Kenya',\n",
       " 'USA',\n",
       " 'Morocco',\n",
       " 'New Mexico',\n",
       " 'Finland',\n",
       " 'Argentina',\n",
       " 'Italy',\n",
       " 'Canada',\n",
       " 'South Korea',\n",
       " 'South Korea']"
      ]
     },
     "execution_count": 39,
     "metadata": {},
     "output_type": "execute_result"
    }
   ],
   "source": [
    "countries"
   ]
  },
  {
   "cell_type": "code",
   "execution_count": 40,
   "id": "320bd2c3-9c0a-46bb-955b-2a1434afc9ae",
   "metadata": {},
   "outputs": [],
   "source": [
    "unique_countries = set(countries)"
   ]
  },
  {
   "cell_type": "code",
   "execution_count": 41,
   "id": "3c913d97-f626-47c0-970d-7c0f8b0cfe9b",
   "metadata": {},
   "outputs": [
    {
     "data": {
      "text/plain": [
       "{'Argentina',\n",
       " 'Canada',\n",
       " 'Croatia',\n",
       " 'Finland',\n",
       " 'Italy',\n",
       " 'Kenya',\n",
       " 'Morocco',\n",
       " 'New Mexico',\n",
       " 'South Korea',\n",
       " 'USA'}"
      ]
     },
     "execution_count": 41,
     "metadata": {},
     "output_type": "execute_result"
    }
   ],
   "source": [
    "unique_countries"
   ]
  },
  {
   "cell_type": "markdown",
   "id": "576a796d-96a4-44fa-b56d-59b0c8a6c17b",
   "metadata": {},
   "source": [
    "# working_with_dictionaries"
   ]
  },
  {
   "cell_type": "code",
   "execution_count": 42,
   "id": "b6f3a5f5-bcdc-410c-baf5-bfc04c6182f3",
   "metadata": {},
   "outputs": [],
   "source": [
    "greenville = {'Area': 68, 'City': 'Greenville', 'Country': 'USA', 'Population': 84554}"
   ]
  },
  {
   "cell_type": "code",
   "execution_count": 43,
   "id": "f9b4772e-600a-4308-93c2-37e470e4b41c",
   "metadata": {},
   "outputs": [],
   "source": [
    "greenville_population = greenville [\"Population\"]"
   ]
  },
  {
   "cell_type": "code",
   "execution_count": 44,
   "id": "dd090511-9840-40ed-aa97-a93e72ea5df2",
   "metadata": {},
   "outputs": [
    {
     "data": {
      "text/plain": [
       "84554"
      ]
     },
     "execution_count": 44,
     "metadata": {},
     "output_type": "execute_result"
    }
   ],
   "source": [
    "greenville_population"
   ]
  },
  {
   "cell_type": "code",
   "execution_count": 45,
   "id": "6b4c699e-93f5-41a3-a7f4-9bbf12a62994",
   "metadata": {},
   "outputs": [],
   "source": [
    "greenville_area = greenville [\"Area\"]"
   ]
  },
  {
   "cell_type": "code",
   "execution_count": 46,
   "id": "7dd93cda-f00f-4285-8a6f-4d3302c51025",
   "metadata": {},
   "outputs": [
    {
     "data": {
      "text/plain": [
       "68"
      ]
     },
     "execution_count": 46,
     "metadata": {},
     "output_type": "execute_result"
    }
   ],
   "source": [
    "greenville_area"
   ]
  },
  {
   "cell_type": "code",
   "execution_count": 47,
   "id": "c4f6e57f-e2db-4a2d-917c-9bc341158e09",
   "metadata": {},
   "outputs": [],
   "source": [
    "greenville_country = greenville [\"Country\"]"
   ]
  },
  {
   "cell_type": "code",
   "execution_count": 48,
   "id": "0481ec70-7218-4a3a-8ce5-59aed2d5081e",
   "metadata": {},
   "outputs": [
    {
     "data": {
      "text/plain": [
       "'USA'"
      ]
     },
     "execution_count": 48,
     "metadata": {},
     "output_type": "execute_result"
    }
   ],
   "source": [
    "greenville_country"
   ]
  },
  {
   "cell_type": "code",
   "execution_count": 49,
   "id": "e9f93fc2-44c4-40d0-b2f5-a6d597bae5cb",
   "metadata": {},
   "outputs": [],
   "source": [
    "greenville_city = greenville [\"City\"]"
   ]
  },
  {
   "cell_type": "code",
   "execution_count": 50,
   "id": "a938a972-12ff-48b9-9335-d0c8f0688f58",
   "metadata": {},
   "outputs": [
    {
     "data": {
      "text/plain": [
       "'Greenville'"
      ]
     },
     "execution_count": 50,
     "metadata": {},
     "output_type": "execute_result"
    }
   ],
   "source": [
    "greenville_city"
   ]
  },
  {
   "cell_type": "code",
   "execution_count": 51,
   "id": "ad1723d0-7ca7-4426-9a66-6948ea85817d",
   "metadata": {},
   "outputs": [],
   "source": [
    "city_keys = list (greenville)"
   ]
  },
  {
   "cell_type": "code",
   "execution_count": 52,
   "id": "69f1d520-afbe-44e1-b8b9-455460c47af1",
   "metadata": {},
   "outputs": [
    {
     "data": {
      "text/plain": [
       "list"
      ]
     },
     "execution_count": 52,
     "metadata": {},
     "output_type": "execute_result"
    }
   ],
   "source": [
    "type (city_keys)"
   ]
  },
  {
   "cell_type": "code",
   "execution_count": 53,
   "id": "7df680ff-1fa0-41fc-99ae-4c5a1e123a2d",
   "metadata": {},
   "outputs": [
    {
     "data": {
      "text/plain": [
       "['Area', 'City', 'Country', 'Population']"
      ]
     },
     "execution_count": 53,
     "metadata": {},
     "output_type": "execute_result"
    }
   ],
   "source": [
    "city_keys"
   ]
  },
  {
   "cell_type": "code",
   "execution_count": 54,
   "id": "2cc47525-f0d4-4f47-a50a-ec4c468b5e4f",
   "metadata": {},
   "outputs": [],
   "source": [
    "city_values = greenville.keys()"
   ]
  },
  {
   "cell_type": "code",
   "execution_count": 55,
   "id": "6e9ee713-72b1-477a-895b-020920edadd7",
   "metadata": {},
   "outputs": [
    {
     "data": {
      "text/plain": [
       "dict_keys(['Area', 'City', 'Country', 'Population'])"
      ]
     },
     "execution_count": 55,
     "metadata": {},
     "output_type": "execute_result"
    }
   ],
   "source": [
    "city_values"
   ]
  },
  {
   "cell_type": "code",
   "execution_count": 56,
   "id": "d6fb9714-9dfd-468f-9891-a43e20534cbc",
   "metadata": {},
   "outputs": [],
   "source": [
    "import pandas as pd\n",
    "\n",
    "file_name = './cities.xlsx'\n",
    "\n",
    "travel_df = pd.read_excel(file_name)"
   ]
  },
  {
   "cell_type": "code",
   "execution_count": 57,
   "id": "54e11f1d-5dfc-400a-b30d-b5442ad85f89",
   "metadata": {},
   "outputs": [
    {
     "data": {
      "text/html": [
       "<div>\n",
       "<style scoped>\n",
       "    .dataframe tbody tr th:only-of-type {\n",
       "        vertical-align: middle;\n",
       "    }\n",
       "\n",
       "    .dataframe tbody tr th {\n",
       "        vertical-align: top;\n",
       "    }\n",
       "\n",
       "    .dataframe thead th {\n",
       "        text-align: right;\n",
       "    }\n",
       "</style>\n",
       "<table border=\"1\" class=\"dataframe\">\n",
       "  <thead>\n",
       "    <tr style=\"text-align: right;\">\n",
       "      <th></th>\n",
       "      <th>City</th>\n",
       "      <th>Country</th>\n",
       "      <th>Population</th>\n",
       "      <th>Area</th>\n",
       "    </tr>\n",
       "  </thead>\n",
       "  <tbody>\n",
       "    <tr>\n",
       "      <th>0</th>\n",
       "      <td>Solta</td>\n",
       "      <td>Croatia</td>\n",
       "      <td>1700</td>\n",
       "      <td>59</td>\n",
       "    </tr>\n",
       "    <tr>\n",
       "      <th>1</th>\n",
       "      <td>Greenville</td>\n",
       "      <td>USA</td>\n",
       "      <td>84554</td>\n",
       "      <td>68</td>\n",
       "    </tr>\n",
       "    <tr>\n",
       "      <th>2</th>\n",
       "      <td>Buenos Aires</td>\n",
       "      <td>Argentina</td>\n",
       "      <td>13591863</td>\n",
       "      <td>4758</td>\n",
       "    </tr>\n",
       "    <tr>\n",
       "      <th>3</th>\n",
       "      <td>Los Cabos</td>\n",
       "      <td>Mexico</td>\n",
       "      <td>287651</td>\n",
       "      <td>3750</td>\n",
       "    </tr>\n",
       "    <tr>\n",
       "      <th>4</th>\n",
       "      <td>Walla Walla Valley</td>\n",
       "      <td>USA</td>\n",
       "      <td>32237</td>\n",
       "      <td>33</td>\n",
       "    </tr>\n",
       "  </tbody>\n",
       "</table>\n",
       "</div>"
      ],
      "text/plain": [
       "                 City    Country  Population  Area\n",
       "0               Solta    Croatia        1700    59\n",
       "1          Greenville        USA       84554    68\n",
       "2        Buenos Aires  Argentina    13591863  4758\n",
       "3           Los Cabos     Mexico      287651  3750\n",
       "4  Walla Walla Valley        USA       32237    33"
      ]
     },
     "execution_count": 57,
     "metadata": {},
     "output_type": "execute_result"
    }
   ],
   "source": [
    "travel_df.head()"
   ]
  },
  {
   "cell_type": "code",
   "execution_count": 58,
   "id": "9e3dc71b-5f55-4419-beed-7de312da852a",
   "metadata": {},
   "outputs": [],
   "source": [
    "cities = travel_df.to_dict ('records')"
   ]
  },
  {
   "cell_type": "code",
   "execution_count": 59,
   "id": "89504fec-a92c-47cf-b4cc-60fb5bdaa98b",
   "metadata": {},
   "outputs": [
    {
     "data": {
      "text/plain": [
       "[{'City': 'Solta', 'Country': 'Croatia', 'Population': 1700, 'Area': 59},\n",
       " {'City': 'Greenville', 'Country': 'USA', 'Population': 84554, 'Area': 68},\n",
       " {'City': 'Buenos Aires',\n",
       "  'Country': 'Argentina',\n",
       "  'Population': 13591863,\n",
       "  'Area': 4758},\n",
       " {'City': 'Los Cabos',\n",
       "  'Country': 'Mexico',\n",
       "  'Population': 287651,\n",
       "  'Area': 3750},\n",
       " {'City': 'Walla Walla Valley',\n",
       "  'Country': 'USA',\n",
       "  'Population': 32237,\n",
       "  'Area': 33},\n",
       " {'City': 'Marakesh', 'Country': 'Morocco', 'Population': 928850, 'Area': 200},\n",
       " {'City': 'Albuquerque',\n",
       "  'Country': 'New Mexico',\n",
       "  'Population': 559277,\n",
       "  'Area': 491},\n",
       " {'City': 'Archipelago Sea',\n",
       "  'Country': 'Finland',\n",
       "  'Population': 60000,\n",
       "  'Area': 8300},\n",
       " {'City': 'Iguazu Falls',\n",
       "  'Country': 'Argentina',\n",
       "  'Population': 0,\n",
       "  'Area': 672},\n",
       " {'City': 'Salina Island', 'Country': 'Italy', 'Population': 4000, 'Area': 27},\n",
       " {'City': 'Toronto', 'Country': 'Canada', 'Population': 630, 'Area': 2731571},\n",
       " {'City': 'Pyeongchang',\n",
       "  'Country': 'South Korea',\n",
       "  'Population': 2581000,\n",
       "  'Area': 3194}]"
      ]
     },
     "execution_count": 59,
     "metadata": {},
     "output_type": "execute_result"
    }
   ],
   "source": [
    "cities"
   ]
  },
  {
   "cell_type": "code",
   "execution_count": 60,
   "id": "2f305404-f5e5-4895-abbf-b09d832d8dfd",
   "metadata": {},
   "outputs": [],
   "source": [
    "salina = cities [-3]"
   ]
  },
  {
   "cell_type": "code",
   "execution_count": 61,
   "id": "f60b27ed-abd7-4414-9e97-234a180ea3b9",
   "metadata": {},
   "outputs": [
    {
     "data": {
      "text/plain": [
       "{'City': 'Salina Island', 'Country': 'Italy', 'Population': 4000, 'Area': 27}"
      ]
     },
     "execution_count": 61,
     "metadata": {},
     "output_type": "execute_result"
    }
   ],
   "source": [
    "salina"
   ]
  },
  {
   "cell_type": "code",
   "execution_count": 62,
   "id": "443a36cb-b9bd-404c-9216-902b41a6560c",
   "metadata": {},
   "outputs": [],
   "source": [
    "toronto = cities [-2]"
   ]
  },
  {
   "cell_type": "code",
   "execution_count": 63,
   "id": "69d70049-056d-4ce7-bc9e-e4b8ec5b1223",
   "metadata": {},
   "outputs": [
    {
     "data": {
      "text/plain": [
       "{'City': 'Toronto', 'Country': 'Canada', 'Population': 630, 'Area': 2731571}"
      ]
     },
     "execution_count": 63,
     "metadata": {},
     "output_type": "execute_result"
    }
   ],
   "source": [
    "toronto"
   ]
  },
  {
   "cell_type": "code",
   "execution_count": 64,
   "id": "c74d1b25-e9e2-45da-994d-c1191143031b",
   "metadata": {},
   "outputs": [],
   "source": [
    "solta = cities [0]"
   ]
  },
  {
   "cell_type": "code",
   "execution_count": 65,
   "id": "9dcb9ae1-825a-4082-b314-52a3c932ef0e",
   "metadata": {},
   "outputs": [
    {
     "data": {
      "text/plain": [
       "{'City': 'Solta', 'Country': 'Croatia', 'Population': 1700, 'Area': 59}"
      ]
     },
     "execution_count": 65,
     "metadata": {},
     "output_type": "execute_result"
    }
   ],
   "source": [
    "solta"
   ]
  },
  {
   "cell_type": "code",
   "execution_count": 66,
   "id": "735540ef-ef2c-4ffc-bcc7-5f4fb48cb5b9",
   "metadata": {},
   "outputs": [],
   "source": [
    "los_cabos_pop = 10\n",
    "cities [3] [\"Population\"] = los_cabos_pop"
   ]
  },
  {
   "cell_type": "code",
   "execution_count": 67,
   "id": "804caee4-ba22-41a2-bef5-af67a3a0f431",
   "metadata": {},
   "outputs": [
    {
     "data": {
      "text/plain": [
       "[{'City': 'Solta', 'Country': 'Croatia', 'Population': 1700, 'Area': 59},\n",
       " {'City': 'Greenville', 'Country': 'USA', 'Population': 84554, 'Area': 68},\n",
       " {'City': 'Buenos Aires',\n",
       "  'Country': 'Argentina',\n",
       "  'Population': 13591863,\n",
       "  'Area': 4758},\n",
       " {'City': 'Los Cabos', 'Country': 'Mexico', 'Population': 10, 'Area': 3750},\n",
       " {'City': 'Walla Walla Valley',\n",
       "  'Country': 'USA',\n",
       "  'Population': 32237,\n",
       "  'Area': 33},\n",
       " {'City': 'Marakesh', 'Country': 'Morocco', 'Population': 928850, 'Area': 200},\n",
       " {'City': 'Albuquerque',\n",
       "  'Country': 'New Mexico',\n",
       "  'Population': 559277,\n",
       "  'Area': 491},\n",
       " {'City': 'Archipelago Sea',\n",
       "  'Country': 'Finland',\n",
       "  'Population': 60000,\n",
       "  'Area': 8300},\n",
       " {'City': 'Iguazu Falls',\n",
       "  'Country': 'Argentina',\n",
       "  'Population': 0,\n",
       "  'Area': 672},\n",
       " {'City': 'Salina Island', 'Country': 'Italy', 'Population': 4000, 'Area': 27},\n",
       " {'City': 'Toronto', 'Country': 'Canada', 'Population': 630, 'Area': 2731571},\n",
       " {'City': 'Pyeongchang',\n",
       "  'Country': 'South Korea',\n",
       "  'Population': 2581000,\n",
       "  'Area': 3194}]"
      ]
     },
     "execution_count": 67,
     "metadata": {},
     "output_type": "execute_result"
    }
   ],
   "source": [
    "cities"
   ]
  },
  {
   "cell_type": "code",
   "execution_count": 68,
   "id": "835909b0-3a87-43cc-8614-d6be56622001",
   "metadata": {},
   "outputs": [],
   "source": [
    "solta_area = 70\n",
    "cities [0] [\"Area\"] = solta_area"
   ]
  },
  {
   "cell_type": "code",
   "execution_count": 69,
   "id": "861b71e1-3f6e-431a-b802-6259b6f2fa64",
   "metadata": {
    "scrolled": true
   },
   "outputs": [
    {
     "data": {
      "text/plain": [
       "[{'City': 'Solta', 'Country': 'Croatia', 'Population': 1700, 'Area': 70},\n",
       " {'City': 'Greenville', 'Country': 'USA', 'Population': 84554, 'Area': 68},\n",
       " {'City': 'Buenos Aires',\n",
       "  'Country': 'Argentina',\n",
       "  'Population': 13591863,\n",
       "  'Area': 4758},\n",
       " {'City': 'Los Cabos', 'Country': 'Mexico', 'Population': 10, 'Area': 3750},\n",
       " {'City': 'Walla Walla Valley',\n",
       "  'Country': 'USA',\n",
       "  'Population': 32237,\n",
       "  'Area': 33},\n",
       " {'City': 'Marakesh', 'Country': 'Morocco', 'Population': 928850, 'Area': 200},\n",
       " {'City': 'Albuquerque',\n",
       "  'Country': 'New Mexico',\n",
       "  'Population': 559277,\n",
       "  'Area': 491},\n",
       " {'City': 'Archipelago Sea',\n",
       "  'Country': 'Finland',\n",
       "  'Population': 60000,\n",
       "  'Area': 8300},\n",
       " {'City': 'Iguazu Falls',\n",
       "  'Country': 'Argentina',\n",
       "  'Population': 0,\n",
       "  'Area': 672},\n",
       " {'City': 'Salina Island', 'Country': 'Italy', 'Population': 4000, 'Area': 27},\n",
       " {'City': 'Toronto', 'Country': 'Canada', 'Population': 630, 'Area': 2731571},\n",
       " {'City': 'Pyeongchang',\n",
       "  'Country': 'South Korea',\n",
       "  'Population': 2581000,\n",
       "  'Area': 3194}]"
      ]
     },
     "execution_count": 69,
     "metadata": {},
     "output_type": "execute_result"
    }
   ],
   "source": [
    "cities"
   ]
  },
  {
   "cell_type": "markdown",
   "id": "3c92bcb7-e7f7-4f81-a34f-5bd766c32948",
   "metadata": {},
   "source": [
    "# Loop_over_Collections"
   ]
  },
  {
   "cell_type": "code",
   "execution_count": 70,
   "id": "90cbdb84-4867-44d9-8fce-2a807fe57242",
   "metadata": {},
   "outputs": [],
   "source": [
    "city_1 = cities [0] [\"City\"]"
   ]
  },
  {
   "cell_type": "code",
   "execution_count": 71,
   "id": "9aac267d-43bb-49d7-97be-ca028e42a007",
   "metadata": {},
   "outputs": [
    {
     "data": {
      "text/plain": [
       "'Solta'"
      ]
     },
     "execution_count": 71,
     "metadata": {},
     "output_type": "execute_result"
    }
   ],
   "source": [
    "city_1"
   ]
  },
  {
   "cell_type": "code",
   "execution_count": 72,
   "id": "cc997781-2bbe-44b7-a1de-e1a83b4fb25a",
   "metadata": {},
   "outputs": [
    {
     "data": {
      "image/png": "[encoded data removed]",
      "text/plain": [
       "<Figure size 640x480 with 1 Axes>"
      ]
     },
     "metadata": {},
     "output_type": "display_data"
    }
   ],
   "source": [
    "import matplotlib.pyplot as plt\n",
    "\n",
    "x_values = [cities[0]['City'], cities[1]['City'], cities[2]['City']]\n",
    "\n",
    "y_values = [cities[0]['Population'], cities[1]['Population'], cities[2]['Population']]\n",
    "\n",
    "plt.bar(x_values, y_values)\n",
    "\n",
    "plt.ylabel('Population')\n",
    "\n",
    "plt.title('City Populations')\n",
    "\n",
    "plt.show()"
   ]
  },
  {
   "cell_type": "code",
   "execution_count": 73,
   "id": "491dc0c7-2bd8-49a6-98bb-111cb1798fcb",
   "metadata": {},
   "outputs": [],
   "source": [
    "buenos_aires = cities[2] [\"Area\"]\n",
    "    "
   ]
  },
  {
   "cell_type": "code",
   "execution_count": 74,
   "id": "22b7a099-15bb-4c4c-874a-1e94eb5b50a4",
   "metadata": {},
   "outputs": [
    {
     "data": {
      "text/plain": [
       "4758"
      ]
     },
     "execution_count": 74,
     "metadata": {},
     "output_type": "execute_result"
    }
   ],
   "source": [
    "buenos_aires"
   ]
  },
  {
   "cell_type": "code",
   "execution_count": 75,
   "id": "65cef49c-b851-4038-b35f-6087cfeba269",
   "metadata": {},
   "outputs": [],
   "source": [
    "city_indices = []\n",
    "\n",
    "for items in range(len(cities)):\n",
    "    city_indices.append(items)"
   ]
  },
  {
   "cell_type": "code",
   "execution_count": 76,
   "id": "35b2fe03-bee0-48b2-9c60-8ecb1ab2d80d",
   "metadata": {},
   "outputs": [
    {
     "data": {
      "text/plain": [
       "[0, 1, 2, 3, 4, 5, 6, 7, 8, 9, 10, 11]"
      ]
     },
     "execution_count": 76,
     "metadata": {},
     "output_type": "execute_result"
    }
   ],
   "source": [
    "city_indices"
   ]
  },
  {
   "cell_type": "code",
   "execution_count": 77,
   "id": "630a1fcd-ded7-4231-8cec-0bb0ae851b01",
   "metadata": {},
   "outputs": [],
   "source": [
    "city_names = []\n",
    "for index in city_indices:\n",
    "    city_names.append(cities[index][\"City\"])"
   ]
  },
  {
   "cell_type": "code",
   "execution_count": 78,
   "id": "b7bb3de6-8f7c-4a79-a4a6-350254697126",
   "metadata": {},
   "outputs": [
    {
     "data": {
      "text/plain": [
       "['Solta',\n",
       " 'Greenville',\n",
       " 'Buenos Aires',\n",
       " 'Los Cabos',\n",
       " 'Walla Walla Valley',\n",
       " 'Marakesh',\n",
       " 'Albuquerque',\n",
       " 'Archipelago Sea',\n",
       " 'Iguazu Falls',\n",
       " 'Salina Island',\n",
       " 'Toronto',\n",
       " 'Pyeongchang']"
      ]
     },
     "execution_count": 78,
     "metadata": {},
     "output_type": "execute_result"
    }
   ],
   "source": [
    "city_names"
   ]
  },
  {
   "cell_type": "code",
   "execution_count": 79,
   "id": "3634bf15-d020-432d-b71d-10480d2cbc78",
   "metadata": {},
   "outputs": [],
   "source": [
    "names_and_ranks = []\n",
    "\n",
    "for index in city_indices:\n",
    "    names_and_ranks.append(f\"{index+1}. {cities[index]['City']}\")\n"
   ]
  },
  {
   "cell_type": "code",
   "execution_count": 80,
   "id": "77ff59f7-d7aa-47a8-b966-8dea2318e3d0",
   "metadata": {},
   "outputs": [
    {
     "data": {
      "text/plain": [
       "['1. Solta',\n",
       " '2. Greenville',\n",
       " '3. Buenos Aires',\n",
       " '4. Los Cabos',\n",
       " '5. Walla Walla Valley',\n",
       " '6. Marakesh',\n",
       " '7. Albuquerque',\n",
       " '8. Archipelago Sea',\n",
       " '9. Iguazu Falls',\n",
       " '10. Salina Island',\n",
       " '11. Toronto',\n",
       " '12. Pyeongchang']"
      ]
     },
     "execution_count": 80,
     "metadata": {},
     "output_type": "execute_result"
    }
   ],
   "source": [
    "names_and_ranks"
   ]
  },
  {
   "cell_type": "code",
   "execution_count": 81,
   "id": "e3bfcec8-8094-4b91-b44d-c49d0c2094b3",
   "metadata": {},
   "outputs": [
    {
     "ename": "KeyError",
     "evalue": "''",
     "output_type": "error",
     "traceback": [
      "\u001b[1;31m---------------------------------------------------------------------------\u001b[0m",
      "\u001b[1;31mKeyError\u001b[0m                                  Traceback (most recent call last)",
      "Cell \u001b[1;32mIn[81], line 3\u001b[0m\n\u001b[0;32m      1\u001b[0m city_populations \u001b[38;5;241m=\u001b[39m []\n\u001b[0;32m      2\u001b[0m \u001b[38;5;28;01mfor\u001b[39;00m index \u001b[38;5;129;01min\u001b[39;00m city_indices:\n\u001b[1;32m----> 3\u001b[0m     city_populations\u001b[38;5;241m.\u001b[39mappend(cities[index][\u001b[38;5;124m\"\u001b[39m\u001b[38;5;124m\"\u001b[39m])\n",
      "\u001b[1;31mKeyError\u001b[0m: ''"
     ]
    }
   ],
   "source": [
    "city_populations = []\n",
    "for index in city_indices:\n",
    "    city_populations.append(cities[index][\"\"])"
   ]
  },
  {
   "cell_type": "code",
   "execution_count": 82,
   "id": "a0f19124-e2f7-4faa-ab30-aa8aea9e01bc",
   "metadata": {},
   "outputs": [
    {
     "data": {
      "text/plain": [
       "[]"
      ]
     },
     "execution_count": 82,
     "metadata": {},
     "output_type": "execute_result"
    }
   ],
   "source": [
    "city_populations"
   ]
  },
  {
   "cell_type": "code",
   "execution_count": 83,
   "id": "5f0f0af9-4541-48e8-b422-aa8fdb0b1407",
   "metadata": {},
   "outputs": [
    {
     "data": {
      "image/png": "[encoded data removed]",
      "text/plain": [
       "<Figure size 640x480 with 1 Axes>"
      ]
     },
     "metadata": {},
     "output_type": "display_data"
    }
   ],
   "source": [
    "import matplotlib.pyplot as plt\n",
    "\n",
    "x_values = [cities[0]['City'], cities[1]['City'], cities[2]['City']]\n",
    "\n",
    "y_values = [cities[0]['Population'], cities[1]['Population'], cities[2]['Population']]\n",
    "\n",
    "plt.bar(x_values, y_values)\n",
    "\n",
    "plt.ylabel('Population')\n",
    "\n",
    "plt.title('City Populations')\n",
    "\n",
    "plt.show()"
   ]
  },
  {
   "cell_type": "code",
   "execution_count": 84,
   "id": "9f4c2688-94d4-4e59-933f-4c4be1abdb3f",
   "metadata": {},
   "outputs": [
    {
     "ename": "ValueError",
     "evalue": "shape mismatch: objects cannot be broadcast to a single shape.  Mismatch is between arg 0 with shape (12,) and arg 1 with shape (0,).",
     "output_type": "error",
     "traceback": [
      "\u001b[1;31m---------------------------------------------------------------------------\u001b[0m",
      "\u001b[1;31mValueError\u001b[0m                                Traceback (most recent call last)",
      "Cell \u001b[1;32mIn[84], line 1\u001b[0m\n\u001b[1;32m----> 1\u001b[0m plt\u001b[38;5;241m.\u001b[39mbar(names_and_ranks, city_populations)\n\u001b[0;32m      3\u001b[0m plt\u001b[38;5;241m.\u001b[39mylabel(\u001b[38;5;124m'\u001b[39m\u001b[38;5;124mPopulation\u001b[39m\u001b[38;5;124m'\u001b[39m)\n\u001b[0;32m      5\u001b[0m plt\u001b[38;5;241m.\u001b[39mxlabel(\u001b[38;5;124m'\u001b[39m\u001b[38;5;124mCities\u001b[39m\u001b[38;5;124m'\u001b[39m)\n",
      "File \u001b[1;32m~\\AppData\\Local\\anaconda3\\Lib\\site-packages\\matplotlib\\pyplot.py:2742\u001b[0m, in \u001b[0;36mbar\u001b[1;34m(x, height, width, bottom, align, data, **kwargs)\u001b[0m\n\u001b[0;32m   2731\u001b[0m \u001b[38;5;129m@_copy_docstring_and_deprecators\u001b[39m(Axes\u001b[38;5;241m.\u001b[39mbar)\n\u001b[0;32m   2732\u001b[0m \u001b[38;5;28;01mdef\u001b[39;00m \u001b[38;5;21mbar\u001b[39m(\n\u001b[0;32m   2733\u001b[0m     x: \u001b[38;5;28mfloat\u001b[39m \u001b[38;5;241m|\u001b[39m ArrayLike,\n\u001b[1;32m   (...)\u001b[0m\n\u001b[0;32m   2740\u001b[0m     \u001b[38;5;241m*\u001b[39m\u001b[38;5;241m*\u001b[39mkwargs,\n\u001b[0;32m   2741\u001b[0m ) \u001b[38;5;241m-\u001b[39m\u001b[38;5;241m>\u001b[39m BarContainer:\n\u001b[1;32m-> 2742\u001b[0m     \u001b[38;5;28;01mreturn\u001b[39;00m gca()\u001b[38;5;241m.\u001b[39mbar(\n\u001b[0;32m   2743\u001b[0m         x,\n\u001b[0;32m   2744\u001b[0m         height,\n\u001b[0;32m   2745\u001b[0m         width\u001b[38;5;241m=\u001b[39mwidth,\n\u001b[0;32m   2746\u001b[0m         bottom\u001b[38;5;241m=\u001b[39mbottom,\n\u001b[0;32m   2747\u001b[0m         align\u001b[38;5;241m=\u001b[39malign,\n\u001b[0;32m   2748\u001b[0m         \u001b[38;5;241m*\u001b[39m\u001b[38;5;241m*\u001b[39m({\u001b[38;5;124m\"\u001b[39m\u001b[38;5;124mdata\u001b[39m\u001b[38;5;124m\"\u001b[39m: data} \u001b[38;5;28;01mif\u001b[39;00m data \u001b[38;5;129;01mis\u001b[39;00m \u001b[38;5;129;01mnot\u001b[39;00m \u001b[38;5;28;01mNone\u001b[39;00m \u001b[38;5;28;01melse\u001b[39;00m {}),\n\u001b[0;32m   2749\u001b[0m         \u001b[38;5;241m*\u001b[39m\u001b[38;5;241m*\u001b[39mkwargs,\n\u001b[0;32m   2750\u001b[0m     )\n",
      "File \u001b[1;32m~\\AppData\\Local\\anaconda3\\Lib\\site-packages\\matplotlib\\__init__.py:1465\u001b[0m, in \u001b[0;36m_preprocess_data.<locals>.inner\u001b[1;34m(ax, data, *args, **kwargs)\u001b[0m\n\u001b[0;32m   1462\u001b[0m \u001b[38;5;129m@functools\u001b[39m\u001b[38;5;241m.\u001b[39mwraps(func)\n\u001b[0;32m   1463\u001b[0m \u001b[38;5;28;01mdef\u001b[39;00m \u001b[38;5;21minner\u001b[39m(ax, \u001b[38;5;241m*\u001b[39margs, data\u001b[38;5;241m=\u001b[39m\u001b[38;5;28;01mNone\u001b[39;00m, \u001b[38;5;241m*\u001b[39m\u001b[38;5;241m*\u001b[39mkwargs):\n\u001b[0;32m   1464\u001b[0m     \u001b[38;5;28;01mif\u001b[39;00m data \u001b[38;5;129;01mis\u001b[39;00m \u001b[38;5;28;01mNone\u001b[39;00m:\n\u001b[1;32m-> 1465\u001b[0m         \u001b[38;5;28;01mreturn\u001b[39;00m func(ax, \u001b[38;5;241m*\u001b[39m\u001b[38;5;28mmap\u001b[39m(sanitize_sequence, args), \u001b[38;5;241m*\u001b[39m\u001b[38;5;241m*\u001b[39mkwargs)\n\u001b[0;32m   1467\u001b[0m     bound \u001b[38;5;241m=\u001b[39m new_sig\u001b[38;5;241m.\u001b[39mbind(ax, \u001b[38;5;241m*\u001b[39margs, \u001b[38;5;241m*\u001b[39m\u001b[38;5;241m*\u001b[39mkwargs)\n\u001b[0;32m   1468\u001b[0m     auto_label \u001b[38;5;241m=\u001b[39m (bound\u001b[38;5;241m.\u001b[39marguments\u001b[38;5;241m.\u001b[39mget(label_namer)\n\u001b[0;32m   1469\u001b[0m                   \u001b[38;5;129;01mor\u001b[39;00m bound\u001b[38;5;241m.\u001b[39mkwargs\u001b[38;5;241m.\u001b[39mget(label_namer))\n",
      "File \u001b[1;32m~\\AppData\\Local\\anaconda3\\Lib\\site-packages\\matplotlib\\axes\\_axes.py:2457\u001b[0m, in \u001b[0;36mAxes.bar\u001b[1;34m(self, x, height, width, bottom, align, **kwargs)\u001b[0m\n\u001b[0;32m   2454\u001b[0m     \u001b[38;5;28;01mif\u001b[39;00m yerr \u001b[38;5;129;01mis\u001b[39;00m \u001b[38;5;129;01mnot\u001b[39;00m \u001b[38;5;28;01mNone\u001b[39;00m:\n\u001b[0;32m   2455\u001b[0m         yerr \u001b[38;5;241m=\u001b[39m \u001b[38;5;28mself\u001b[39m\u001b[38;5;241m.\u001b[39m_convert_dx(yerr, y0, y, \u001b[38;5;28mself\u001b[39m\u001b[38;5;241m.\u001b[39mconvert_yunits)\n\u001b[1;32m-> 2457\u001b[0m x, height, width, y, linewidth, hatch \u001b[38;5;241m=\u001b[39m np\u001b[38;5;241m.\u001b[39mbroadcast_arrays(\n\u001b[0;32m   2458\u001b[0m     \u001b[38;5;66;03m# Make args iterable too.\u001b[39;00m\n\u001b[0;32m   2459\u001b[0m     np\u001b[38;5;241m.\u001b[39matleast_1d(x), height, width, y, linewidth, hatch)\n\u001b[0;32m   2461\u001b[0m \u001b[38;5;66;03m# Now that units have been converted, set the tick locations.\u001b[39;00m\n\u001b[0;32m   2462\u001b[0m \u001b[38;5;28;01mif\u001b[39;00m orientation \u001b[38;5;241m==\u001b[39m \u001b[38;5;124m'\u001b[39m\u001b[38;5;124mvertical\u001b[39m\u001b[38;5;124m'\u001b[39m:\n",
      "File \u001b[1;32m~\\AppData\\Local\\anaconda3\\Lib\\site-packages\\numpy\\lib\\stride_tricks.py:540\u001b[0m, in \u001b[0;36mbroadcast_arrays\u001b[1;34m(subok, *args)\u001b[0m\n\u001b[0;32m    533\u001b[0m \u001b[38;5;66;03m# nditer is not used here to avoid the limit of 32 arrays.\u001b[39;00m\n\u001b[0;32m    534\u001b[0m \u001b[38;5;66;03m# Otherwise, something like the following one-liner would suffice:\u001b[39;00m\n\u001b[0;32m    535\u001b[0m \u001b[38;5;66;03m# return np.nditer(args, flags=['multi_index', 'zerosize_ok'],\u001b[39;00m\n\u001b[0;32m    536\u001b[0m \u001b[38;5;66;03m#                  order='C').itviews\u001b[39;00m\n\u001b[0;32m    538\u001b[0m args \u001b[38;5;241m=\u001b[39m [np\u001b[38;5;241m.\u001b[39marray(_m, copy\u001b[38;5;241m=\u001b[39m\u001b[38;5;28;01mFalse\u001b[39;00m, subok\u001b[38;5;241m=\u001b[39msubok) \u001b[38;5;28;01mfor\u001b[39;00m _m \u001b[38;5;129;01min\u001b[39;00m args]\n\u001b[1;32m--> 540\u001b[0m shape \u001b[38;5;241m=\u001b[39m _broadcast_shape(\u001b[38;5;241m*\u001b[39margs)\n\u001b[0;32m    542\u001b[0m \u001b[38;5;28;01mif\u001b[39;00m \u001b[38;5;28mall\u001b[39m(array\u001b[38;5;241m.\u001b[39mshape \u001b[38;5;241m==\u001b[39m shape \u001b[38;5;28;01mfor\u001b[39;00m array \u001b[38;5;129;01min\u001b[39;00m args):\n\u001b[0;32m    543\u001b[0m     \u001b[38;5;66;03m# Common case where nothing needs to be broadcasted.\u001b[39;00m\n\u001b[0;32m    544\u001b[0m     \u001b[38;5;28;01mreturn\u001b[39;00m args\n",
      "File \u001b[1;32m~\\AppData\\Local\\anaconda3\\Lib\\site-packages\\numpy\\lib\\stride_tricks.py:422\u001b[0m, in \u001b[0;36m_broadcast_shape\u001b[1;34m(*args)\u001b[0m\n\u001b[0;32m    417\u001b[0m \u001b[38;5;250m\u001b[39m\u001b[38;5;124;03m\"\"\"Returns the shape of the arrays that would result from broadcasting the\u001b[39;00m\n\u001b[0;32m    418\u001b[0m \u001b[38;5;124;03msupplied arrays against each other.\u001b[39;00m\n\u001b[0;32m    419\u001b[0m \u001b[38;5;124;03m\"\"\"\u001b[39;00m\n\u001b[0;32m    420\u001b[0m \u001b[38;5;66;03m# use the old-iterator because np.nditer does not handle size 0 arrays\u001b[39;00m\n\u001b[0;32m    421\u001b[0m \u001b[38;5;66;03m# consistently\u001b[39;00m\n\u001b[1;32m--> 422\u001b[0m b \u001b[38;5;241m=\u001b[39m np\u001b[38;5;241m.\u001b[39mbroadcast(\u001b[38;5;241m*\u001b[39margs[:\u001b[38;5;241m32\u001b[39m])\n\u001b[0;32m    423\u001b[0m \u001b[38;5;66;03m# unfortunately, it cannot handle 32 or more arguments directly\u001b[39;00m\n\u001b[0;32m    424\u001b[0m \u001b[38;5;28;01mfor\u001b[39;00m pos \u001b[38;5;129;01min\u001b[39;00m \u001b[38;5;28mrange\u001b[39m(\u001b[38;5;241m32\u001b[39m, \u001b[38;5;28mlen\u001b[39m(args), \u001b[38;5;241m31\u001b[39m):\n\u001b[0;32m    425\u001b[0m     \u001b[38;5;66;03m# ironically, np.broadcast does not properly handle np.broadcast\u001b[39;00m\n\u001b[0;32m    426\u001b[0m     \u001b[38;5;66;03m# objects (it treats them as scalars)\u001b[39;00m\n\u001b[0;32m    427\u001b[0m     \u001b[38;5;66;03m# use broadcasting to avoid allocating the full array\u001b[39;00m\n",
      "\u001b[1;31mValueError\u001b[0m: shape mismatch: objects cannot be broadcast to a single shape.  Mismatch is between arg 0 with shape (12,) and arg 1 with shape (0,)."
     ]
    },
    {
     "data": {
      "image/png": "[encoded data removed]",
      "text/plain": [
       "<Figure size 640x480 with 1 Axes>"
      ]
     },
     "metadata": {},
     "output_type": "display_data"
    }
   ],
   "source": [
    "plt.bar(names_and_ranks, city_populations)\n",
    "\n",
    "plt.ylabel('Population')\n",
    "\n",
    "plt.xlabel('Cities')\n",
    "\n",
    "plt.title('City Populations')\n",
    "\n",
    "plt.xticks(rotation='vertical')\n",
    "\n",
    "plt.show()"
   ]
  },
  {
   "cell_type": "code",
   "execution_count": null,
   "id": "153d2f87-4c6e-44d7-948c-812a7b5c12be",
   "metadata": {},
   "outputs": [],
   "source": [
    "city_areas = []\n",
    "for index in city_indices:\n",
    "    city_areas.append(cities[index][\"Area\"])"
   ]
  },
  {
   "cell_type": "code",
   "execution_count": null,
   "id": "99687eb4-7459-4fa3-8378-5c16940c0a2e",
   "metadata": {},
   "outputs": [],
   "source": [
    "city_areas"
   ]
  },
  {
   "cell_type": "code",
   "execution_count": null,
   "id": "9fe46e1f-8093-4a7b-a1df-d8ae4aa144b8",
   "metadata": {},
   "outputs": [],
   "source": [
    "plt.bar(names_and_ranks, city_areas)\n",
    "\n",
    "plt.ylabel('Area')\n",
    "\n",
    "plt.xlabel('Cities')\n",
    "\n",
    "plt.title('City Areas')\n",
    "\n",
    "plt.xticks(rotation='vertical')\n",
    "\n",
    "plt.show()"
   ]
  },
  {
   "cell_type": "markdown",
   "id": "30940b29-6817-4761-81ac-b442658d4378",
   "metadata": {},
   "source": [
    "# While_Loops"
   ]
  },
  {
   "cell_type": "code",
   "execution_count": null,
   "id": "6754beb7-be88-43b7-9d2b-dd6ae141c0f6",
   "metadata": {},
   "outputs": [],
   "source": [
    "numbers = list(range(30))\n",
    "\n",
    "for num in numbers:\n",
    "    if num > 30:\n",
    "        break\n",
    "    elif num % 2 != 0:\n",
    "        continue\n",
    "    print(num)"
   ]
  },
  {
   "cell_type": "code",
   "execution_count": null,
   "id": "8c381a19-7475-4cb9-b447-dd4f8736a2e9",
   "metadata": {},
   "outputs": [],
   "source": [
    "numbers = list(range(40))\n",
    "\n",
    "for num in numbers:\n",
    "    if num > 40:\n",
    "        break\n",
    "    elif num % 2 != 0:\n",
    "        continue\n",
    "    print(num)"
   ]
  },
  {
   "cell_type": "code",
   "execution_count": null,
   "id": "325be9a1-e3ca-4d1b-9c0a-08b7568b0c55",
   "metadata": {},
   "outputs": [],
   "source": [
    "numbers = list(range(50))\n",
    "\n",
    "for num in numbers:\n",
    "    if num > 30:\n",
    "        break\n",
    "    elif num % 4 != 2:\n",
    "        continue\n",
    "    print(num)"
   ]
  },
  {
   "cell_type": "code",
   "execution_count": null,
   "id": "62133414-f5bc-4465-8e7b-8a004ff69724",
   "metadata": {},
   "outputs": [],
   "source": [
    "numbers = list(range(50))\n",
    "\n",
    "for num in numbers:\n",
    "    if num > 50:\n",
    "        break\n",
    "    elif num % 4 != 2:\n",
    "        continue\n",
    "    print(num)"
   ]
  },
  {
   "cell_type": "markdown",
   "id": "59c68af7-31a9-49ed-8c06-453d98f8bd26",
   "metadata": {},
   "source": [
    "# While Loops, Breaks and Continue"
   ]
  },
  {
   "cell_type": "code",
   "execution_count": null,
   "id": "a3a6f1df-56b7-41c2-9c42-5f18110ad462",
   "metadata": {},
   "outputs": [],
   "source": [
    "slices_of_pizza = 6\n",
    "\n",
    "slices_eaten = 0\n",
    "\n",
    "while slices_eaten < 6:\n",
    "    print('Another slice eaten!')\n",
    "\n",
    "    slices_eaten += 1\n",
    "\n",
    "    print('Now eaten {} slices!'.format(slices_eaten))"
   ]
  },
  {
   "cell_type": "code",
   "execution_count": null,
   "id": "f1e798b5-e030-4d61-879f-5eb9435f0889",
   "metadata": {},
   "outputs": [],
   "source": [
    "time_for_breakfast = 1468\n",
    "\n",
    "number_of_cooked_pancakes = 0\n",
    "\n",
    "while number_of_cooked_pancakes < 6:\n",
    "    time_for_breakfast -= 69\n",
    "    number_of_cooked_pancakes +=1\n",
    "print(f\"Time left after pancakes {round(time_for_breakfast/60,2)} minutes!\")\n",
    "    "
   ]
  },
  {
   "cell_type": "code",
   "execution_count": 85,
   "id": "0d089bcc-e1fc-4fd8-a2da-3e82f0bc61a2",
   "metadata": {},
   "outputs": [
    {
     "data": {
      "text/plain": [
       "17.567"
      ]
     },
     "execution_count": 85,
     "metadata": {},
     "output_type": "execute_result"
    }
   ],
   "source": [
    "round(17.566666666666666,3)"
   ]
  },
  {
   "cell_type": "code",
   "execution_count": 86,
   "id": "1aa8b8c8-d8e9-4332-b3d4-02f24f8a12ff",
   "metadata": {},
   "outputs": [
    {
     "name": "stdout",
     "output_type": "stream",
     "text": [
      "fed_patrons: [0, 2, 4, 6, 8, 10, 12, 14, 16, 18, 20, 22, 24, 26, 28]\n",
      "hungry_patrons:[1, 3, 5, 7, 9, 11, 13, 15, 17, 19, 21, 23, 25, 27, 29]\n"
     ]
    }
   ],
   "source": [
    "line_of_hungry_patrons = list(range(0,30))\n",
    "\n",
    "fed_patrons = []\n",
    "hungry_patrons = []\n",
    "\n",
    "for num in line_of_hungry_patrons:    \n",
    "    \n",
    "    if num % 2 != 0:\n",
    "        hungry_patrons.append(num)\n",
    "    else:\n",
    "        fed_patrons.append(num)\n",
    "    \n",
    "print(f\"fed_patrons: {fed_patrons}\")\n",
    "\n",
    "print(f\"hungry_patrons:{hungry_patrons}\")"
   ]
  },
  {
   "cell_type": "code",
   "execution_count": 87,
   "id": "33306d9b-9586-4bb8-8b93-790f55cffba2",
   "metadata": {},
   "outputs": [],
   "source": [
    "people = [\n",
    "\n",
    "   {'name': \"Daniel\", 'age': 29, 'job': \"Engineer\", 'pet': \"Cat\", 'pet_name': \"Gato\"},\n",
    "\n",
    "   {'name': \"Katie\", 'age': 30, 'job': \"Teacher\", 'pet': \"Cat\", 'pet_name': \"Frank\"},\n",
    "\n",
    "   {'name': \"Owen\", 'age': 26, 'job': \"Sales person\", 'pet': \"Cat\", 'pet_name': \"Cosmo\"},\n",
    "\n",
    "   {'name': \"Josh\", 'age': 22, 'job': \"Student\", 'pet': \"Cat\", 'pet_name': \"Chat\"},\n",
    "\n",
    "   {'name': \"Estelle\", 'age': 35, 'job': \"French Diplomat\", 'pet': \"Dog\", 'pet_name': \"Gabby\"},\n",
    "\n",
    "   {'name': \"Gustav\", 'age': 24, 'job': \"Brewer\", 'pet': \"Dog\", 'pet_name': \"Helen\"}\n",
    "\n",
    "]"
   ]
  },
  {
   "cell_type": "code",
   "execution_count": 88,
   "id": "33f941b6-b5bb-4447-980f-5ce612b4e2bd",
   "metadata": {},
   "outputs": [
    {
     "name": "stdout",
     "output_type": "stream",
     "text": [
      "Estelle has a dog! had to check 4 of records to find a dog owner.\n"
     ]
    }
   ],
   "source": [
    "first_dog_person = None\n",
    "\n",
    "iteration_count = 0\n",
    "for person in people:\n",
    "    if person ['pet'] !='Dog':\n",
    "        iteration_count += 1\n",
    "        continue\n",
    "    else:\n",
    "        first_dog_person = person ['name']\n",
    "        break\n",
    "\n",
    "print(f\"{first_dog_person} has a dog! had to check {iteration_count} of records to find a dog owner.\")\n",
    "        "
   ]
  },
  {
   "cell_type": "code",
   "execution_count": 90,
   "id": "297093b6-362f-4645-a628-669e8fb7d7f3",
   "metadata": {},
   "outputs": [],
   "source": [
    "first_dog_person = None\n",
    "iteration_count = 0\n",
    "for value in people:\n",
    "    iteration_count +=1\n",
    "\n",
    "    if iteration_count == 3:\n",
    "        break\n",
    "        \n",
    "    if value['pet'] == 'Dog':\n",
    "        first_dog_person = value         "
   ]
  },
  {
   "cell_type": "code",
   "execution_count": 91,
   "id": "5517e8cc-6959-454c-8f7c-430ff92d7f47",
   "metadata": {},
   "outputs": [],
   "source": [
    "first_dog_person"
   ]
  },
  {
   "cell_type": "markdown",
   "id": "6c1e0e54-4987-49db-9b53-da8a08f1109d",
   "metadata": {},
   "source": [
    "# Nested_Loops"
   ]
  },
  {
   "cell_type": "code",
   "execution_count": 93,
   "id": "ad1890ed-fd1b-4c6e-81d7-c97cd5aaa058",
   "metadata": {},
   "outputs": [],
   "source": [
    "# Run this cell without changes\n",
    "\n",
    "soccer_match = [\n",
    "\n",
    " { \"home_team\": True,\n",
    "\n",
    "   \"away_team\": False,\n",
    "\n",
    "   \"country\": \"France\",\n",
    "\n",
    "   \"num_passes\": 484,\n",
    "\n",
    "   \"passes_completed\": 423,\n",
    "\n",
    "   \"fouls_committed\": 16,\n",
    "\n",
    "   \"colors\": [\"blue\", \"white\", \"red\"],\n",
    "\n",
    "   \"players\": [\n",
    "\n",
    "     {\n",
    "\n",
    "       \"name\": \"Hugo LLORIS\",\n",
    "\n",
    "       \"captain\": True,\n",
    "\n",
    "       \"shirt_number\": 1,\n",
    "\n",
    "       \"position\": \"Goalie\"\n",
    "\n",
    "     },\n",
    "\n",
    "     {\n",
    "\n",
    "       \"name\": \"Benjamin PAVARD\",\n",
    "\n",
    "       \"captain\": False,\n",
    "\n",
    "       \"shirt_number\": 2,\n",
    "\n",
    "       \"position\": \"Defender\"\n",
    "\n",
    "     },\n",
    "\n",
    "     {\n",
    "\n",
    "       \"name\": \"Raphael VARANE\",\n",
    "\n",
    "       \"captain\": False,\n",
    "\n",
    "       \"shirt_number\": 4,\n",
    "\n",
    "       \"position\": \"Defender\"\n",
    "\n",
    "     },\n",
    "\n",
    "     {\n",
    "\n",
    "       \"name\": \"Samuel UMTITI\",\n",
    "\n",
    "       \"captain\": False,\n",
    "\n",
    "       \"shirt_number\": 5,\n",
    "\n",
    "       \"position\": \"Defender\"\n",
    "\n",
    "     },\n",
    "\n",
    "     {\n",
    "\n",
    "       \"name\": \"Paul POGBA\",\n",
    "\n",
    "       \"captain\": False,\n",
    "\n",
    "       \"shirt_number\": 6,\n",
    "\n",
    "       \"position\": \"Midfield\"\n",
    "\n",
    "     },\n",
    "\n",
    "     {\n",
    "\n",
    "       \"name\": \"Antoine GRIEZMANN\",\n",
    "\n",
    "       \"captain\": False,\n",
    "\n",
    "       \"shirt_number\": 7,\n",
    "\n",
    "       \"position\": \"Forward\"\n",
    "\n",
    "     },\n",
    "\n",
    "     {\n",
    "\n",
    "       \"name\": \"Kylian MBAPPE\",\n",
    "\n",
    "       \"captain\": False,\n",
    "\n",
    "       \"shirt_number\": 10,\n",
    "\n",
    "       \"position\": \"Forward\"\n",
    "\n",
    "     },\n",
    "\n",
    "     {\n",
    "\n",
    "       \"name\": \"Ousmane DEMBELE\",\n",
    "\n",
    "       \"captain\": False,\n",
    "\n",
    "       \"shirt_number\": 11,\n",
    "\n",
    "       \"position\": \"Forward\"\n",
    "\n",
    "     },\n",
    "\n",
    "     {\n",
    "\n",
    "       \"name\": \"Corentin TOLISSO\",\n",
    "\n",
    "       \"captain\": False,\n",
    "\n",
    "       \"shirt_number\": 12,\n",
    "\n",
    "       \"position\": \"Midfield\"\n",
    "\n",
    "     },\n",
    "\n",
    "     {\n",
    "\n",
    "       \"name\": \"Ngolo KANTE\",\n",
    "\n",
    "       \"captain\": False,\n",
    "\n",
    "       \"shirt_number\": 13,\n",
    "\n",
    "       \"position\": \"Midfield\"\n",
    "\n",
    "     },\n",
    "\n",
    "     {\n",
    "\n",
    "       \"name\": \"Lucas HERNANDEZ\",\n",
    "\n",
    "       \"captain\": False,\n",
    "\n",
    "       \"shirt_number\": 21,\n",
    "\n",
    "       \"position\": \"Defender\"\n",
    "\n",
    "     }\n",
    "\n",
    "   ],\n",
    "\n",
    " },\n",
    "\n",
    " { \"home_team\": False,\n",
    "\n",
    "   \"away_team\": True,\n",
    "\n",
    "   \"country\": \"Australia\",\n",
    "\n",
    "   \"num_passes\": 390,\n",
    "\n",
    "   \"passes_completed\": 332,\n",
    "\n",
    "   \"fouls_committed\": 19,\n",
    "\n",
    "   \"colors\": [\"green\", \"gold\"],\n",
    "\n",
    "   \"players\": [\n",
    "\n",
    "     {\n",
    "\n",
    "       \"name\": \"Mathew RYAN\",\n",
    "\n",
    "       \"captain\": False,\n",
    "\n",
    "       \"shirt_number\": 1,\n",
    "\n",
    "       \"position\": \"Goalie\"\n",
    "\n",
    "     },\n",
    "\n",
    "     {\n",
    "\n",
    "       \"name\": \"Mark MILLIGAN\",\n",
    "\n",
    "       \"captain\": False,\n",
    "\n",
    "       \"shirt_number\": 5,\n",
    "\n",
    "       \"position\": \"Defender\"\n",
    "\n",
    "     },\n",
    "\n",
    "     {\n",
    "\n",
    "       \"name\": \"Mathew LECKIE\",\n",
    "\n",
    "       \"captain\": False,\n",
    "\n",
    "       \"shirt_number\": 7,\n",
    "\n",
    "       \"position\": \"Forward\"\n",
    "\n",
    "     },\n",
    "\n",
    "     {\n",
    "\n",
    "       \"name\": \"Robbie KRUSE\",\n",
    "\n",
    "       \"captain\": False,\n",
    "\n",
    "       \"shirt_number\": 10,\n",
    "\n",
    "       \"position\": \"Forward\"\n",
    "\n",
    "     },\n",
    "\n",
    "     {\n",
    "\n",
    "       \"name\": \"Andrew NABBOUT\",\n",
    "\n",
    "       \"captain\": False,\n",
    "\n",
    "       \"shirt_number\": 11,\n",
    "\n",
    "       \"position\": \"Forward\"\n",
    "\n",
    "     },\n",
    "\n",
    "     {\n",
    "\n",
    "       \"name\": \"Aaron MOOY\",\n",
    "\n",
    "       \"captain\": False,\n",
    "\n",
    "       \"shirt_number\": 13,\n",
    "\n",
    "       \"position\": \"Midfield\"\n",
    "\n",
    "     },\n",
    "\n",
    "     {\n",
    "\n",
    "       \"name\": \"Mile JEDINAK\",\n",
    "\n",
    "       \"captain\": True,\n",
    "\n",
    "       \"shirt_number\": 15,\n",
    "\n",
    "       \"position\": \"Midfield\"\n",
    "\n",
    "     },\n",
    "\n",
    "     {\n",
    "\n",
    "       \"name\": \"Aziz BEHICH\",\n",
    "\n",
    "       \"captain\": False,\n",
    "\n",
    "       \"shirt_number\": 16,\n",
    "\n",
    "       \"position\": \"Defender\"\n",
    "\n",
    "     },\n",
    "\n",
    "     {\n",
    "\n",
    "       \"name\": \"Joshua RISDON\",\n",
    "\n",
    "       \"captain\": False,\n",
    "\n",
    "       \"shirt_number\": 19,\n",
    "\n",
    "       \"position\": \"Defender\"\n",
    "\n",
    "     },\n",
    "\n",
    "     {\n",
    "\n",
    "       \"name\": \"Trent SAINSBURY\",\n",
    "\n",
    "       \"captain\": False,\n",
    "\n",
    "       \"shirt_number\": 20,\n",
    "\n",
    "       \"position\": \"Defender\"\n",
    "\n",
    "     },\n",
    "\n",
    "     {\n",
    "\n",
    "       \"name\": \"Tom ROGIC\",\n",
    "\n",
    "       \"captain\": False,\n",
    "\n",
    "       \"shirt_number\": 23,\n",
    "\n",
    "       \"position\": \"Midfield\"\n",
    "\n",
    "     }\n",
    "\n",
    "   ]\n",
    "\n",
    " }\n",
    "\n",
    "]"
   ]
  },
  {
   "cell_type": "code",
   "execution_count": 94,
   "id": "a6175a18-40a8-4834-aac0-226c8aa8c488",
   "metadata": {},
   "outputs": [
    {
     "data": {
      "text/plain": [
       "[{'home_team': True,\n",
       "  'away_team': False,\n",
       "  'country': 'France',\n",
       "  'num_passes': 484,\n",
       "  'passes_completed': 423,\n",
       "  'fouls_committed': 16,\n",
       "  'colors': ['blue', 'white', 'red'],\n",
       "  'players': [{'name': 'Hugo LLORIS',\n",
       "    'captain': True,\n",
       "    'shirt_number': 1,\n",
       "    'position': 'Goalie'},\n",
       "   {'name': 'Benjamin PAVARD',\n",
       "    'captain': False,\n",
       "    'shirt_number': 2,\n",
       "    'position': 'Defender'},\n",
       "   {'name': 'Raphael VARANE',\n",
       "    'captain': False,\n",
       "    'shirt_number': 4,\n",
       "    'position': 'Defender'},\n",
       "   {'name': 'Samuel UMTITI',\n",
       "    'captain': False,\n",
       "    'shirt_number': 5,\n",
       "    'position': 'Defender'},\n",
       "   {'name': 'Paul POGBA',\n",
       "    'captain': False,\n",
       "    'shirt_number': 6,\n",
       "    'position': 'Midfield'},\n",
       "   {'name': 'Antoine GRIEZMANN',\n",
       "    'captain': False,\n",
       "    'shirt_number': 7,\n",
       "    'position': 'Forward'},\n",
       "   {'name': 'Kylian MBAPPE',\n",
       "    'captain': False,\n",
       "    'shirt_number': 10,\n",
       "    'position': 'Forward'},\n",
       "   {'name': 'Ousmane DEMBELE',\n",
       "    'captain': False,\n",
       "    'shirt_number': 11,\n",
       "    'position': 'Forward'},\n",
       "   {'name': 'Corentin TOLISSO',\n",
       "    'captain': False,\n",
       "    'shirt_number': 12,\n",
       "    'position': 'Midfield'},\n",
       "   {'name': 'Ngolo KANTE',\n",
       "    'captain': False,\n",
       "    'shirt_number': 13,\n",
       "    'position': 'Midfield'},\n",
       "   {'name': 'Lucas HERNANDEZ',\n",
       "    'captain': False,\n",
       "    'shirt_number': 21,\n",
       "    'position': 'Defender'}]},\n",
       " {'home_team': False,\n",
       "  'away_team': True,\n",
       "  'country': 'Australia',\n",
       "  'num_passes': 390,\n",
       "  'passes_completed': 332,\n",
       "  'fouls_committed': 19,\n",
       "  'colors': ['green', 'gold'],\n",
       "  'players': [{'name': 'Mathew RYAN',\n",
       "    'captain': False,\n",
       "    'shirt_number': 1,\n",
       "    'position': 'Goalie'},\n",
       "   {'name': 'Mark MILLIGAN',\n",
       "    'captain': False,\n",
       "    'shirt_number': 5,\n",
       "    'position': 'Defender'},\n",
       "   {'name': 'Mathew LECKIE',\n",
       "    'captain': False,\n",
       "    'shirt_number': 7,\n",
       "    'position': 'Forward'},\n",
       "   {'name': 'Robbie KRUSE',\n",
       "    'captain': False,\n",
       "    'shirt_number': 10,\n",
       "    'position': 'Forward'},\n",
       "   {'name': 'Andrew NABBOUT',\n",
       "    'captain': False,\n",
       "    'shirt_number': 11,\n",
       "    'position': 'Forward'},\n",
       "   {'name': 'Aaron MOOY',\n",
       "    'captain': False,\n",
       "    'shirt_number': 13,\n",
       "    'position': 'Midfield'},\n",
       "   {'name': 'Mile JEDINAK',\n",
       "    'captain': True,\n",
       "    'shirt_number': 15,\n",
       "    'position': 'Midfield'},\n",
       "   {'name': 'Aziz BEHICH',\n",
       "    'captain': False,\n",
       "    'shirt_number': 16,\n",
       "    'position': 'Defender'},\n",
       "   {'name': 'Joshua RISDON',\n",
       "    'captain': False,\n",
       "    'shirt_number': 19,\n",
       "    'position': 'Defender'},\n",
       "   {'name': 'Trent SAINSBURY',\n",
       "    'captain': False,\n",
       "    'shirt_number': 20,\n",
       "    'position': 'Defender'},\n",
       "   {'name': 'Tom ROGIC',\n",
       "    'captain': False,\n",
       "    'shirt_number': 23,\n",
       "    'position': 'Midfield'}]}]"
      ]
     },
     "execution_count": 94,
     "metadata": {},
     "output_type": "execute_result"
    }
   ],
   "source": [
    "soccer_match"
   ]
  },
  {
   "cell_type": "code",
   "execution_count": 98,
   "id": "5fb7c374-0350-4c7a-b3bc-304fd186dd0a",
   "metadata": {},
   "outputs": [
    {
     "name": "stdout",
     "output_type": "stream",
     "text": [
      "Information about soccer_match\n",
      "Type: <class 'list'>\n",
      "Length: 2\n",
      "\n",
      "Information about soccer_match[0]:\n",
      "Type: <class 'dict'>\n",
      "Length: 8\n",
      "Keys: dict_keys(['home_team', 'away_team', 'country', 'num_passes', 'passes_completed', 'fouls_committed', 'colors', 'players'])\n",
      "Values: dict_values([False, True, 'Australia', 390, 332, 19, ['green', 'gold'], [{'name': 'Mathew RYAN', 'captain': False, 'shirt_number': 1, 'position': 'Goalie'}, {'name': 'Mark MILLIGAN', 'captain': False, 'shirt_number': 5, 'position': 'Defender'}, {'name': 'Mathew LECKIE', 'captain': False, 'shirt_number': 7, 'position': 'Forward'}, {'name': 'Robbie KRUSE', 'captain': False, 'shirt_number': 10, 'position': 'Forward'}, {'name': 'Andrew NABBOUT', 'captain': False, 'shirt_number': 11, 'position': 'Forward'}, {'name': 'Aaron MOOY', 'captain': False, 'shirt_number': 13, 'position': 'Midfield'}, {'name': 'Mile JEDINAK', 'captain': True, 'shirt_number': 15, 'position': 'Midfield'}, {'name': 'Aziz BEHICH', 'captain': False, 'shirt_number': 16, 'position': 'Defender'}, {'name': 'Joshua RISDON', 'captain': False, 'shirt_number': 19, 'position': 'Defender'}, {'name': 'Trent SAINSBURY', 'captain': False, 'shirt_number': 20, 'position': 'Defender'}, {'name': 'Tom ROGIC', 'captain': False, 'shirt_number': 23, 'position': 'Midfield'}]])\n"
     ]
    }
   ],
   "source": [
    "# Run this cell without changes\n",
    "print(\"Information about soccer_match\")\n",
    "print(\"Type:\", type(soccer_match))\n",
    "print(\"Length:\", len(soccer_match))\n",
    "print()\n",
    "print(\"Information about soccer_match[0]:\")\n",
    "print(\"Type:\", type(soccer_match[0]))\n",
    "print(\"Length:\", len(soccer_match[0]))\n",
    "print(\"Keys:\", soccer_match[0].keys())\n",
    "print(\"Values:\", soccer_match[1].values())"
   ]
  },
  {
   "cell_type": "code",
   "execution_count": 105,
   "id": "801f99b6-564f-4ed4-9f49-ff7658abc30d",
   "metadata": {},
   "outputs": [
    {
     "data": {
      "text/plain": [
       "['France', 'Australia']"
      ]
     },
     "execution_count": 105,
     "metadata": {},
     "output_type": "execute_result"
    }
   ],
   "source": [
    "countries = []\n",
    "for i in range(len(soccer_match)):\n",
    "    countries.append(soccer_match[i]['country'])\n",
    "                     \n",
    "countries"
   ]
  },
  {
   "cell_type": "code",
   "execution_count": 112,
   "id": "e9669729-e3b0-45b3-807b-cc9c674a7957",
   "metadata": {},
   "outputs": [
    {
     "data": {
      "text/plain": [
       "['blue', 'white', 'red', 'green', 'gold']"
      ]
     },
     "execution_count": 112,
     "metadata": {},
     "output_type": "execute_result"
    }
   ],
   "source": [
    "colors = []\n",
    "for team in soccer_match:\n",
    "    colors.extend(team['colors'])\n",
    "colors"
   ]
  },
  {
   "cell_type": "code",
   "execution_count": 122,
   "id": "ad35183f-24e2-4d13-8d3e-7ee88976b810",
   "metadata": {},
   "outputs": [
    {
     "name": "stdout",
     "output_type": "stream",
     "text": [
      "[{'name': 'Hugo LLORIS', 'captain': True, 'shirt_number': 1, 'position': 'Goalie'}, {'name': 'Benjamin PAVARD', 'captain': False, 'shirt_number': 2, 'position': 'Defender'}, {'name': 'Raphael VARANE', 'captain': False, 'shirt_number': 4, 'position': 'Defender'}, {'name': 'Samuel UMTITI', 'captain': False, 'shirt_number': 5, 'position': 'Defender'}, {'name': 'Paul POGBA', 'captain': False, 'shirt_number': 6, 'position': 'Midfield'}, {'name': 'Antoine GRIEZMANN', 'captain': False, 'shirt_number': 7, 'position': 'Forward'}, {'name': 'Kylian MBAPPE', 'captain': False, 'shirt_number': 10, 'position': 'Forward'}, {'name': 'Ousmane DEMBELE', 'captain': False, 'shirt_number': 11, 'position': 'Forward'}, {'name': 'Corentin TOLISSO', 'captain': False, 'shirt_number': 12, 'position': 'Midfield'}, {'name': 'Ngolo KANTE', 'captain': False, 'shirt_number': 13, 'position': 'Midfield'}, {'name': 'Lucas HERNANDEZ', 'captain': False, 'shirt_number': 21, 'position': 'Defender'}, {'name': 'Hugo LLORIS', 'captain': True, 'shirt_number': 1, 'position': 'Goalie'}, {'name': 'Benjamin PAVARD', 'captain': False, 'shirt_number': 2, 'position': 'Defender'}, {'name': 'Raphael VARANE', 'captain': False, 'shirt_number': 4, 'position': 'Defender'}, {'name': 'Samuel UMTITI', 'captain': False, 'shirt_number': 5, 'position': 'Defender'}, {'name': 'Paul POGBA', 'captain': False, 'shirt_number': 6, 'position': 'Midfield'}, {'name': 'Antoine GRIEZMANN', 'captain': False, 'shirt_number': 7, 'position': 'Forward'}, {'name': 'Kylian MBAPPE', 'captain': False, 'shirt_number': 10, 'position': 'Forward'}, {'name': 'Ousmane DEMBELE', 'captain': False, 'shirt_number': 11, 'position': 'Forward'}, {'name': 'Corentin TOLISSO', 'captain': False, 'shirt_number': 12, 'position': 'Midfield'}, {'name': 'Ngolo KANTE', 'captain': False, 'shirt_number': 13, 'position': 'Midfield'}, {'name': 'Lucas HERNANDEZ', 'captain': False, 'shirt_number': 21, 'position': 'Defender'}, {'name': 'Hugo LLORIS', 'captain': True, 'shirt_number': 1, 'position': 'Goalie'}, {'name': 'Benjamin PAVARD', 'captain': False, 'shirt_number': 2, 'position': 'Defender'}, {'name': 'Raphael VARANE', 'captain': False, 'shirt_number': 4, 'position': 'Defender'}, {'name': 'Samuel UMTITI', 'captain': False, 'shirt_number': 5, 'position': 'Defender'}, {'name': 'Paul POGBA', 'captain': False, 'shirt_number': 6, 'position': 'Midfield'}, {'name': 'Antoine GRIEZMANN', 'captain': False, 'shirt_number': 7, 'position': 'Forward'}, {'name': 'Kylian MBAPPE', 'captain': False, 'shirt_number': 10, 'position': 'Forward'}, {'name': 'Ousmane DEMBELE', 'captain': False, 'shirt_number': 11, 'position': 'Forward'}, {'name': 'Corentin TOLISSO', 'captain': False, 'shirt_number': 12, 'position': 'Midfield'}, {'name': 'Ngolo KANTE', 'captain': False, 'shirt_number': 13, 'position': 'Midfield'}, {'name': 'Lucas HERNANDEZ', 'captain': False, 'shirt_number': 21, 'position': 'Defender'}, {'name': 'Hugo LLORIS', 'captain': True, 'shirt_number': 1, 'position': 'Goalie'}, {'name': 'Benjamin PAVARD', 'captain': False, 'shirt_number': 2, 'position': 'Defender'}, {'name': 'Raphael VARANE', 'captain': False, 'shirt_number': 4, 'position': 'Defender'}, {'name': 'Samuel UMTITI', 'captain': False, 'shirt_number': 5, 'position': 'Defender'}, {'name': 'Paul POGBA', 'captain': False, 'shirt_number': 6, 'position': 'Midfield'}, {'name': 'Antoine GRIEZMANN', 'captain': False, 'shirt_number': 7, 'position': 'Forward'}, {'name': 'Kylian MBAPPE', 'captain': False, 'shirt_number': 10, 'position': 'Forward'}, {'name': 'Ousmane DEMBELE', 'captain': False, 'shirt_number': 11, 'position': 'Forward'}, {'name': 'Corentin TOLISSO', 'captain': False, 'shirt_number': 12, 'position': 'Midfield'}, {'name': 'Ngolo KANTE', 'captain': False, 'shirt_number': 13, 'position': 'Midfield'}, {'name': 'Lucas HERNANDEZ', 'captain': False, 'shirt_number': 21, 'position': 'Defender'}, {'name': 'Hugo LLORIS', 'captain': True, 'shirt_number': 1, 'position': 'Goalie'}, {'name': 'Benjamin PAVARD', 'captain': False, 'shirt_number': 2, 'position': 'Defender'}, {'name': 'Raphael VARANE', 'captain': False, 'shirt_number': 4, 'position': 'Defender'}, {'name': 'Samuel UMTITI', 'captain': False, 'shirt_number': 5, 'position': 'Defender'}, {'name': 'Paul POGBA', 'captain': False, 'shirt_number': 6, 'position': 'Midfield'}, {'name': 'Antoine GRIEZMANN', 'captain': False, 'shirt_number': 7, 'position': 'Forward'}, {'name': 'Kylian MBAPPE', 'captain': False, 'shirt_number': 10, 'position': 'Forward'}, {'name': 'Ousmane DEMBELE', 'captain': False, 'shirt_number': 11, 'position': 'Forward'}, {'name': 'Corentin TOLISSO', 'captain': False, 'shirt_number': 12, 'position': 'Midfield'}, {'name': 'Ngolo KANTE', 'captain': False, 'shirt_number': 13, 'position': 'Midfield'}, {'name': 'Lucas HERNANDEZ', 'captain': False, 'shirt_number': 21, 'position': 'Defender'}, {'name': 'Hugo LLORIS', 'captain': True, 'shirt_number': 1, 'position': 'Goalie'}, {'name': 'Benjamin PAVARD', 'captain': False, 'shirt_number': 2, 'position': 'Defender'}, {'name': 'Raphael VARANE', 'captain': False, 'shirt_number': 4, 'position': 'Defender'}, {'name': 'Samuel UMTITI', 'captain': False, 'shirt_number': 5, 'position': 'Defender'}, {'name': 'Paul POGBA', 'captain': False, 'shirt_number': 6, 'position': 'Midfield'}, {'name': 'Antoine GRIEZMANN', 'captain': False, 'shirt_number': 7, 'position': 'Forward'}, {'name': 'Kylian MBAPPE', 'captain': False, 'shirt_number': 10, 'position': 'Forward'}, {'name': 'Ousmane DEMBELE', 'captain': False, 'shirt_number': 11, 'position': 'Forward'}, {'name': 'Corentin TOLISSO', 'captain': False, 'shirt_number': 12, 'position': 'Midfield'}, {'name': 'Ngolo KANTE', 'captain': False, 'shirt_number': 13, 'position': 'Midfield'}, {'name': 'Lucas HERNANDEZ', 'captain': False, 'shirt_number': 21, 'position': 'Defender'}, {'name': 'Hugo LLORIS', 'captain': True, 'shirt_number': 1, 'position': 'Goalie'}, {'name': 'Benjamin PAVARD', 'captain': False, 'shirt_number': 2, 'position': 'Defender'}, {'name': 'Raphael VARANE', 'captain': False, 'shirt_number': 4, 'position': 'Defender'}, {'name': 'Samuel UMTITI', 'captain': False, 'shirt_number': 5, 'position': 'Defender'}, {'name': 'Paul POGBA', 'captain': False, 'shirt_number': 6, 'position': 'Midfield'}, {'name': 'Antoine GRIEZMANN', 'captain': False, 'shirt_number': 7, 'position': 'Forward'}, {'name': 'Kylian MBAPPE', 'captain': False, 'shirt_number': 10, 'position': 'Forward'}, {'name': 'Ousmane DEMBELE', 'captain': False, 'shirt_number': 11, 'position': 'Forward'}, {'name': 'Corentin TOLISSO', 'captain': False, 'shirt_number': 12, 'position': 'Midfield'}, {'name': 'Ngolo KANTE', 'captain': False, 'shirt_number': 13, 'position': 'Midfield'}, {'name': 'Lucas HERNANDEZ', 'captain': False, 'shirt_number': 21, 'position': 'Defender'}, {'name': 'Hugo LLORIS', 'captain': True, 'shirt_number': 1, 'position': 'Goalie'}, {'name': 'Benjamin PAVARD', 'captain': False, 'shirt_number': 2, 'position': 'Defender'}, {'name': 'Raphael VARANE', 'captain': False, 'shirt_number': 4, 'position': 'Defender'}, {'name': 'Samuel UMTITI', 'captain': False, 'shirt_number': 5, 'position': 'Defender'}, {'name': 'Paul POGBA', 'captain': False, 'shirt_number': 6, 'position': 'Midfield'}, {'name': 'Antoine GRIEZMANN', 'captain': False, 'shirt_number': 7, 'position': 'Forward'}, {'name': 'Kylian MBAPPE', 'captain': False, 'shirt_number': 10, 'position': 'Forward'}, {'name': 'Ousmane DEMBELE', 'captain': False, 'shirt_number': 11, 'position': 'Forward'}, {'name': 'Corentin TOLISSO', 'captain': False, 'shirt_number': 12, 'position': 'Midfield'}, {'name': 'Ngolo KANTE', 'captain': False, 'shirt_number': 13, 'position': 'Midfield'}, {'name': 'Lucas HERNANDEZ', 'captain': False, 'shirt_number': 21, 'position': 'Defender'}, {'name': 'Mathew RYAN', 'captain': False, 'shirt_number': 1, 'position': 'Goalie'}, {'name': 'Mark MILLIGAN', 'captain': False, 'shirt_number': 5, 'position': 'Defender'}, {'name': 'Mathew LECKIE', 'captain': False, 'shirt_number': 7, 'position': 'Forward'}, {'name': 'Robbie KRUSE', 'captain': False, 'shirt_number': 10, 'position': 'Forward'}, {'name': 'Andrew NABBOUT', 'captain': False, 'shirt_number': 11, 'position': 'Forward'}, {'name': 'Aaron MOOY', 'captain': False, 'shirt_number': 13, 'position': 'Midfield'}, {'name': 'Mile JEDINAK', 'captain': True, 'shirt_number': 15, 'position': 'Midfield'}, {'name': 'Aziz BEHICH', 'captain': False, 'shirt_number': 16, 'position': 'Defender'}, {'name': 'Joshua RISDON', 'captain': False, 'shirt_number': 19, 'position': 'Defender'}, {'name': 'Trent SAINSBURY', 'captain': False, 'shirt_number': 20, 'position': 'Defender'}, {'name': 'Tom ROGIC', 'captain': False, 'shirt_number': 23, 'position': 'Midfield'}, {'name': 'Mathew RYAN', 'captain': False, 'shirt_number': 1, 'position': 'Goalie'}, {'name': 'Mark MILLIGAN', 'captain': False, 'shirt_number': 5, 'position': 'Defender'}, {'name': 'Mathew LECKIE', 'captain': False, 'shirt_number': 7, 'position': 'Forward'}, {'name': 'Robbie KRUSE', 'captain': False, 'shirt_number': 10, 'position': 'Forward'}, {'name': 'Andrew NABBOUT', 'captain': False, 'shirt_number': 11, 'position': 'Forward'}, {'name': 'Aaron MOOY', 'captain': False, 'shirt_number': 13, 'position': 'Midfield'}, {'name': 'Mile JEDINAK', 'captain': True, 'shirt_number': 15, 'position': 'Midfield'}, {'name': 'Aziz BEHICH', 'captain': False, 'shirt_number': 16, 'position': 'Defender'}, {'name': 'Joshua RISDON', 'captain': False, 'shirt_number': 19, 'position': 'Defender'}, {'name': 'Trent SAINSBURY', 'captain': False, 'shirt_number': 20, 'position': 'Defender'}, {'name': 'Tom ROGIC', 'captain': False, 'shirt_number': 23, 'position': 'Midfield'}, {'name': 'Mathew RYAN', 'captain': False, 'shirt_number': 1, 'position': 'Goalie'}, {'name': 'Mark MILLIGAN', 'captain': False, 'shirt_number': 5, 'position': 'Defender'}, {'name': 'Mathew LECKIE', 'captain': False, 'shirt_number': 7, 'position': 'Forward'}, {'name': 'Robbie KRUSE', 'captain': False, 'shirt_number': 10, 'position': 'Forward'}, {'name': 'Andrew NABBOUT', 'captain': False, 'shirt_number': 11, 'position': 'Forward'}, {'name': 'Aaron MOOY', 'captain': False, 'shirt_number': 13, 'position': 'Midfield'}, {'name': 'Mile JEDINAK', 'captain': True, 'shirt_number': 15, 'position': 'Midfield'}, {'name': 'Aziz BEHICH', 'captain': False, 'shirt_number': 16, 'position': 'Defender'}, {'name': 'Joshua RISDON', 'captain': False, 'shirt_number': 19, 'position': 'Defender'}, {'name': 'Trent SAINSBURY', 'captain': False, 'shirt_number': 20, 'position': 'Defender'}, {'name': 'Tom ROGIC', 'captain': False, 'shirt_number': 23, 'position': 'Midfield'}, {'name': 'Mathew RYAN', 'captain': False, 'shirt_number': 1, 'position': 'Goalie'}, {'name': 'Mark MILLIGAN', 'captain': False, 'shirt_number': 5, 'position': 'Defender'}, {'name': 'Mathew LECKIE', 'captain': False, 'shirt_number': 7, 'position': 'Forward'}, {'name': 'Robbie KRUSE', 'captain': False, 'shirt_number': 10, 'position': 'Forward'}, {'name': 'Andrew NABBOUT', 'captain': False, 'shirt_number': 11, 'position': 'Forward'}, {'name': 'Aaron MOOY', 'captain': False, 'shirt_number': 13, 'position': 'Midfield'}, {'name': 'Mile JEDINAK', 'captain': True, 'shirt_number': 15, 'position': 'Midfield'}, {'name': 'Aziz BEHICH', 'captain': False, 'shirt_number': 16, 'position': 'Defender'}, {'name': 'Joshua RISDON', 'captain': False, 'shirt_number': 19, 'position': 'Defender'}, {'name': 'Trent SAINSBURY', 'captain': False, 'shirt_number': 20, 'position': 'Defender'}, {'name': 'Tom ROGIC', 'captain': False, 'shirt_number': 23, 'position': 'Midfield'}, {'name': 'Mathew RYAN', 'captain': False, 'shirt_number': 1, 'position': 'Goalie'}, {'name': 'Mark MILLIGAN', 'captain': False, 'shirt_number': 5, 'position': 'Defender'}, {'name': 'Mathew LECKIE', 'captain': False, 'shirt_number': 7, 'position': 'Forward'}, {'name': 'Robbie KRUSE', 'captain': False, 'shirt_number': 10, 'position': 'Forward'}, {'name': 'Andrew NABBOUT', 'captain': False, 'shirt_number': 11, 'position': 'Forward'}, {'name': 'Aaron MOOY', 'captain': False, 'shirt_number': 13, 'position': 'Midfield'}, {'name': 'Mile JEDINAK', 'captain': True, 'shirt_number': 15, 'position': 'Midfield'}, {'name': 'Aziz BEHICH', 'captain': False, 'shirt_number': 16, 'position': 'Defender'}, {'name': 'Joshua RISDON', 'captain': False, 'shirt_number': 19, 'position': 'Defender'}, {'name': 'Trent SAINSBURY', 'captain': False, 'shirt_number': 20, 'position': 'Defender'}, {'name': 'Tom ROGIC', 'captain': False, 'shirt_number': 23, 'position': 'Midfield'}, {'name': 'Mathew RYAN', 'captain': False, 'shirt_number': 1, 'position': 'Goalie'}, {'name': 'Mark MILLIGAN', 'captain': False, 'shirt_number': 5, 'position': 'Defender'}, {'name': 'Mathew LECKIE', 'captain': False, 'shirt_number': 7, 'position': 'Forward'}, {'name': 'Robbie KRUSE', 'captain': False, 'shirt_number': 10, 'position': 'Forward'}, {'name': 'Andrew NABBOUT', 'captain': False, 'shirt_number': 11, 'position': 'Forward'}, {'name': 'Aaron MOOY', 'captain': False, 'shirt_number': 13, 'position': 'Midfield'}, {'name': 'Mile JEDINAK', 'captain': True, 'shirt_number': 15, 'position': 'Midfield'}, {'name': 'Aziz BEHICH', 'captain': False, 'shirt_number': 16, 'position': 'Defender'}, {'name': 'Joshua RISDON', 'captain': False, 'shirt_number': 19, 'position': 'Defender'}, {'name': 'Trent SAINSBURY', 'captain': False, 'shirt_number': 20, 'position': 'Defender'}, {'name': 'Tom ROGIC', 'captain': False, 'shirt_number': 23, 'position': 'Midfield'}, {'name': 'Mathew RYAN', 'captain': False, 'shirt_number': 1, 'position': 'Goalie'}, {'name': 'Mark MILLIGAN', 'captain': False, 'shirt_number': 5, 'position': 'Defender'}, {'name': 'Mathew LECKIE', 'captain': False, 'shirt_number': 7, 'position': 'Forward'}, {'name': 'Robbie KRUSE', 'captain': False, 'shirt_number': 10, 'position': 'Forward'}, {'name': 'Andrew NABBOUT', 'captain': False, 'shirt_number': 11, 'position': 'Forward'}, {'name': 'Aaron MOOY', 'captain': False, 'shirt_number': 13, 'position': 'Midfield'}, {'name': 'Mile JEDINAK', 'captain': True, 'shirt_number': 15, 'position': 'Midfield'}, {'name': 'Aziz BEHICH', 'captain': False, 'shirt_number': 16, 'position': 'Defender'}, {'name': 'Joshua RISDON', 'captain': False, 'shirt_number': 19, 'position': 'Defender'}, {'name': 'Trent SAINSBURY', 'captain': False, 'shirt_number': 20, 'position': 'Defender'}, {'name': 'Tom ROGIC', 'captain': False, 'shirt_number': 23, 'position': 'Midfield'}, {'name': 'Mathew RYAN', 'captain': False, 'shirt_number': 1, 'position': 'Goalie'}, {'name': 'Mark MILLIGAN', 'captain': False, 'shirt_number': 5, 'position': 'Defender'}, {'name': 'Mathew LECKIE', 'captain': False, 'shirt_number': 7, 'position': 'Forward'}, {'name': 'Robbie KRUSE', 'captain': False, 'shirt_number': 10, 'position': 'Forward'}, {'name': 'Andrew NABBOUT', 'captain': False, 'shirt_number': 11, 'position': 'Forward'}, {'name': 'Aaron MOOY', 'captain': False, 'shirt_number': 13, 'position': 'Midfield'}, {'name': 'Mile JEDINAK', 'captain': True, 'shirt_number': 15, 'position': 'Midfield'}, {'name': 'Aziz BEHICH', 'captain': False, 'shirt_number': 16, 'position': 'Defender'}, {'name': 'Joshua RISDON', 'captain': False, 'shirt_number': 19, 'position': 'Defender'}, {'name': 'Trent SAINSBURY', 'captain': False, 'shirt_number': 20, 'position': 'Defender'}, {'name': 'Tom ROGIC', 'captain': False, 'shirt_number': 23, 'position': 'Midfield'}]\n"
     ]
    }
   ],
   "source": [
    "players = []\n",
    "for team in soccer_match:\n",
    "    for player in team:\n",
    "        players.extend(team['players'])\n",
    "print(players)"
   ]
  },
  {
   "cell_type": "code",
   "execution_count": 123,
   "id": "1fc2e720-5d22-4fff-880d-7b691defbac2",
   "metadata": {},
   "outputs": [
    {
     "data": {
      "text/plain": [
       "'HELLO'"
      ]
     },
     "execution_count": 123,
     "metadata": {},
     "output_type": "execute_result"
    }
   ],
   "source": [
    "\"hello\".upper()"
   ]
  },
  {
   "cell_type": "markdown",
   "id": "f0924497-a02e-4c59-af52-1cf186ae89d4",
   "metadata": {},
   "source": [
    "# Built in Python Operators_Functions and Methods"
   ]
  },
  {
   "cell_type": "code",
   "execution_count": 125,
   "id": "95157a88-9090-4dc4-91c1-0ce4d33343f4",
   "metadata": {},
   "outputs": [
    {
     "data": {
      "text/plain": [
       "'hello, there'"
      ]
     },
     "execution_count": 125,
     "metadata": {},
     "output_type": "execute_result"
    }
   ],
   "source": [
    "yell_hello = \"hello, there\"\n",
    "\n",
    "yell_hello"
   ]
  },
  {
   "cell_type": "code",
   "execution_count": 127,
   "id": "d6ee0237-945c-44c1-a522-96482f953c6e",
   "metadata": {},
   "outputs": [
    {
     "data": {
      "text/plain": [
       "'HELLO, THERE'"
      ]
     },
     "execution_count": 127,
     "metadata": {},
     "output_type": "execute_result"
    }
   ],
   "source": [
    "yell_hello = \"hello, there\".upper()\n",
    "\n",
    "yell_hello"
   ]
  },
  {
   "cell_type": "code",
   "execution_count": 129,
   "id": "20208b3b-6aa1-49f2-9e6e-ac51d573d1b0",
   "metadata": {},
   "outputs": [
    {
     "data": {
      "text/plain": [
       "'PSSSST, HEY'"
      ]
     },
     "execution_count": 129,
     "metadata": {},
     "output_type": "execute_result"
    }
   ],
   "source": [
    "whisper_hey = \"psssst, hey\".upper()\n",
    "\n",
    "whisper_hey"
   ]
  },
  {
   "cell_type": "code",
   "execution_count": 130,
   "id": "3110a866-08dc-4306-ae8e-acfa9422c74e",
   "metadata": {},
   "outputs": [
    {
     "data": {
      "text/plain": [
       "'LEARN. LOVE. CODE.'"
      ]
     },
     "execution_count": 130,
     "metadata": {},
     "output_type": "execute_result"
    }
   ],
   "source": [
    "flatiron_mantra = \"LEARN. LOVE. CODE.\"\n",
    "\n",
    "flatiron_mantra"
   ]
  },
  {
   "cell_type": "code",
   "execution_count": 131,
   "id": "acd8afc9-b900-486b-9eef-6cf6dea9a35b",
   "metadata": {},
   "outputs": [
    {
     "data": {
      "text/plain": [
       "'Learn. Love. Code.'"
      ]
     },
     "execution_count": 131,
     "metadata": {},
     "output_type": "execute_result"
    }
   ],
   "source": [
    "flatiron_mantra = \"LEARN. LOVE. CODE.\".title()\n",
    "\n",
    "flatiron_mantra"
   ]
  },
  {
   "cell_type": "code",
   "execution_count": 132,
   "id": "24328d81-538b-4141-b31e-4c1e797a7581",
   "metadata": {},
   "outputs": [],
   "source": [
    "boolean_compare = False or True"
   ]
  },
  {
   "cell_type": "code",
   "execution_count": 133,
   "id": "c6072d46-c2f9-4d2f-98f7-13e9db235b42",
   "metadata": {},
   "outputs": [
    {
     "data": {
      "text/plain": [
       "True"
      ]
     },
     "execution_count": 133,
     "metadata": {},
     "output_type": "execute_result"
    }
   ],
   "source": [
    "boolean_compare"
   ]
  },
  {
   "cell_type": "code",
   "execution_count": 134,
   "id": "b83b7f95-93f6-410c-ab8f-505c72e3d4f7",
   "metadata": {},
   "outputs": [],
   "source": [
    "boolean_compare = False and True"
   ]
  },
  {
   "cell_type": "code",
   "execution_count": 135,
   "id": "a83cfb27-2183-482a-8bc3-305882e4ecb7",
   "metadata": {},
   "outputs": [
    {
     "data": {
      "text/plain": [
       "False"
      ]
     },
     "execution_count": 135,
     "metadata": {},
     "output_type": "execute_result"
    }
   ],
   "source": [
    "boolean_compare"
   ]
  },
  {
   "cell_type": "code",
   "execution_count": 138,
   "id": "9b9cd8ca-e0ca-484d-9b88-e4f8cdd2ef4d",
   "metadata": {},
   "outputs": [],
   "source": [
    "boolean_compare = not True"
   ]
  },
  {
   "cell_type": "code",
   "execution_count": 139,
   "id": "9baa3dee-506f-4c02-903c-ab340209b38f",
   "metadata": {},
   "outputs": [
    {
     "data": {
      "text/plain": [
       "False"
      ]
     },
     "execution_count": 139,
     "metadata": {},
     "output_type": "execute_result"
    }
   ],
   "source": [
    "boolean_compare"
   ]
  },
  {
   "cell_type": "code",
   "execution_count": 140,
   "id": "2f3ec134-4191-4560-86f3-6c86e5c420e4",
   "metadata": {},
   "outputs": [],
   "source": [
    "boolean_compare = not False"
   ]
  },
  {
   "cell_type": "code",
   "execution_count": 141,
   "id": "7c248cef-1b55-464d-81f8-7381ce27549d",
   "metadata": {},
   "outputs": [
    {
     "data": {
      "text/plain": [
       "True"
      ]
     },
     "execution_count": 141,
     "metadata": {},
     "output_type": "execute_result"
    }
   ],
   "source": [
    "boolean_compare"
   ]
  },
  {
   "cell_type": "code",
   "execution_count": 142,
   "id": "9bc359f2-0d6e-45e9-96db-0d0cf5bed949",
   "metadata": {},
   "outputs": [],
   "source": [
    "boolean_compare = False and False"
   ]
  },
  {
   "cell_type": "code",
   "execution_count": 143,
   "id": "1714e6ba-d87e-4ed6-ab50-d7102405f58a",
   "metadata": {},
   "outputs": [
    {
     "data": {
      "text/plain": [
       "False"
      ]
     },
     "execution_count": 143,
     "metadata": {},
     "output_type": "execute_result"
    }
   ],
   "source": [
    "boolean_compare "
   ]
  },
  {
   "cell_type": "code",
   "execution_count": 144,
   "id": "dd9a66fc-4ebc-4f2a-8c83-9da221439308",
   "metadata": {},
   "outputs": [],
   "source": [
    "boolean_compare = False or False"
   ]
  },
  {
   "cell_type": "code",
   "execution_count": 145,
   "id": "e4467346-4eb3-47c6-9106-9eaa213f4960",
   "metadata": {},
   "outputs": [
    {
     "data": {
      "text/plain": [
       "False"
      ]
     },
     "execution_count": 145,
     "metadata": {},
     "output_type": "execute_result"
    }
   ],
   "source": [
    "boolean_compare"
   ]
  },
  {
   "cell_type": "code",
   "execution_count": 152,
   "id": "9ec9812f-5cda-4617-8afc-17ce749c832e",
   "metadata": {},
   "outputs": [],
   "source": [
    "boolean_compare = True != True"
   ]
  },
  {
   "cell_type": "code",
   "execution_count": 153,
   "id": "5fe710d8-65b1-4cab-8ed1-c8dab5166d4c",
   "metadata": {},
   "outputs": [
    {
     "data": {
      "text/plain": [
       "False"
      ]
     },
     "execution_count": 153,
     "metadata": {},
     "output_type": "execute_result"
    }
   ],
   "source": [
    "boolean_compare"
   ]
  },
  {
   "cell_type": "code",
   "execution_count": 156,
   "id": "f8e052ec-f6a6-415c-bd28-6da0af0b0384",
   "metadata": {},
   "outputs": [],
   "source": [
    "number_compare = 10 <= 10 # True"
   ]
  },
  {
   "cell_type": "code",
   "execution_count": 157,
   "id": "4389635b-9720-442c-adb4-aa9d55bca801",
   "metadata": {},
   "outputs": [
    {
     "data": {
      "text/plain": [
       "True"
      ]
     },
     "execution_count": 157,
     "metadata": {},
     "output_type": "execute_result"
    }
   ],
   "source": [
    "number_compare"
   ]
  },
  {
   "cell_type": "code",
   "execution_count": 158,
   "id": "9b665715-82bc-43e6-9b10-64f70d92ad26",
   "metadata": {},
   "outputs": [],
   "source": [
    "number_compare2 = -20 >= 30 # True"
   ]
  },
  {
   "cell_type": "code",
   "execution_count": 159,
   "id": "bc459946-f24e-41cf-8f28-210519f85a0d",
   "metadata": {},
   "outputs": [
    {
     "data": {
      "text/plain": [
       "False"
      ]
     },
     "execution_count": 159,
     "metadata": {},
     "output_type": "execute_result"
    }
   ],
   "source": [
    "number_compare2"
   ]
  },
  {
   "cell_type": "code",
   "execution_count": 160,
   "id": "da0b8717-4522-4faa-9896-acede58e9cd8",
   "metadata": {},
   "outputs": [],
   "source": [
    "number_compare3 = 4 >= 5 # False"
   ]
  },
  {
   "cell_type": "code",
   "execution_count": 161,
   "id": "fda8228e-f275-4a72-b803-51d66d3f0949",
   "metadata": {},
   "outputs": [
    {
     "data": {
      "text/plain": [
       "False"
      ]
     },
     "execution_count": 161,
     "metadata": {},
     "output_type": "execute_result"
    }
   ],
   "source": [
    "number_compare3"
   ]
  },
  {
   "cell_type": "code",
   "execution_count": 162,
   "id": "dc324e21-54a5-44f6-b897-9c87e3e85fbb",
   "metadata": {},
   "outputs": [
    {
     "name": "stdout",
     "output_type": "stream",
     "text": [
      "True False False\n"
     ]
    }
   ],
   "source": [
    "print(number_compare, number_compare2, number_compare3)"
   ]
  },
  {
   "cell_type": "code",
   "execution_count": 164,
   "id": "e6b36a48-7c9c-4082-91db-009a8673d28b",
   "metadata": {},
   "outputs": [],
   "source": [
    "logical_compare = 2 != [] # []"
   ]
  },
  {
   "cell_type": "code",
   "execution_count": 165,
   "id": "af0c0540-f88e-4a92-8733-e4020a218453",
   "metadata": {},
   "outputs": [
    {
     "data": {
      "text/plain": [
       "True"
      ]
     },
     "execution_count": 165,
     "metadata": {},
     "output_type": "execute_result"
    }
   ],
   "source": [
    "logical_compare"
   ]
  },
  {
   "cell_type": "code",
   "execution_count": 168,
   "id": "9469a9c7-2b38-4869-a994-328417febcd7",
   "metadata": {},
   "outputs": [],
   "source": [
    "logical_compare = 2 != [] # []"
   ]
  },
  {
   "cell_type": "code",
   "execution_count": 169,
   "id": "4afaac05-2b6b-45a2-b795-3d848f13a45f",
   "metadata": {},
   "outputs": [],
   "source": [
    "logical_compare = 2 or [] # []"
   ]
  },
  {
   "cell_type": "code",
   "execution_count": 170,
   "id": "58b9138a-9c18-45ba-bc32-ee113c181708",
   "metadata": {},
   "outputs": [
    {
     "data": {
      "text/plain": [
       "2"
      ]
     },
     "execution_count": 170,
     "metadata": {},
     "output_type": "execute_result"
    }
   ],
   "source": [
    "logical_compare"
   ]
  },
  {
   "cell_type": "code",
   "execution_count": 171,
   "id": "73b33012-9b93-4d8e-afe6-2264b929dee0",
   "metadata": {},
   "outputs": [],
   "source": [
    "logical_compare = 2 and [] # []"
   ]
  },
  {
   "cell_type": "code",
   "execution_count": 172,
   "id": "eeec59d8-209f-49d9-a354-0af5667b705c",
   "metadata": {},
   "outputs": [
    {
     "data": {
      "text/plain": [
       "[]"
      ]
     },
     "execution_count": 172,
     "metadata": {},
     "output_type": "execute_result"
    }
   ],
   "source": [
    "logical_compare"
   ]
  },
  {
   "cell_type": "code",
   "execution_count": 176,
   "id": "a9bed89e-6c5d-4958-9648-c15ec0702f8b",
   "metadata": {},
   "outputs": [],
   "source": [
    "logical_compare2 = 5 != [] # True"
   ]
  },
  {
   "cell_type": "code",
   "execution_count": 177,
   "id": "219157a2-32a4-4dd0-a44e-17d4094aa6b4",
   "metadata": {},
   "outputs": [
    {
     "data": {
      "text/plain": [
       "True"
      ]
     },
     "execution_count": 177,
     "metadata": {},
     "output_type": "execute_result"
    }
   ],
   "source": [
    "logical_compare2"
   ]
  },
  {
   "cell_type": "code",
   "execution_count": 178,
   "id": "ba2557ba-f4ea-410e-8801-c80093537555",
   "metadata": {},
   "outputs": [],
   "source": [
    "logical_compare2 = not [] # True"
   ]
  },
  {
   "cell_type": "code",
   "execution_count": 179,
   "id": "547b43b9-f8b6-47b3-823d-e32a42ffbf86",
   "metadata": {},
   "outputs": [
    {
     "data": {
      "text/plain": [
       "True"
      ]
     },
     "execution_count": 179,
     "metadata": {},
     "output_type": "execute_result"
    }
   ],
   "source": [
    "logical_compare2"
   ]
  },
  {
   "cell_type": "code",
   "execution_count": 186,
   "id": "b41f5d1a-16fe-4fee-9e98-21b50d651193",
   "metadata": {},
   "outputs": [],
   "source": [
    "logical_compare3 = 0 and [] # 0"
   ]
  },
  {
   "cell_type": "code",
   "execution_count": 187,
   "id": "6e4433fd-837c-4e47-b375-aa8bbd56e954",
   "metadata": {},
   "outputs": [
    {
     "data": {
      "text/plain": [
       "0"
      ]
     },
     "execution_count": 187,
     "metadata": {},
     "output_type": "execute_result"
    }
   ],
   "source": [
    "logical_compare3"
   ]
  },
  {
   "cell_type": "code",
   "execution_count": 192,
   "id": "efec485d-4bef-4517-94a6-f9f85216e5be",
   "metadata": {},
   "outputs": [],
   "source": [
    "logical_compare4 = True and 2 # 2"
   ]
  },
  {
   "cell_type": "code",
   "execution_count": 193,
   "id": "0643aa1a-7099-44a2-b265-63f461527764",
   "metadata": {},
   "outputs": [
    {
     "data": {
      "text/plain": [
       "2"
      ]
     },
     "execution_count": 193,
     "metadata": {},
     "output_type": "execute_result"
    }
   ],
   "source": [
    "logical_compare4"
   ]
  },
  {
   "cell_type": "code",
   "execution_count": 196,
   "id": "a6737935-d207-4e55-961d-e417a63cf69f",
   "metadata": {},
   "outputs": [],
   "source": [
    "logical_compare5 = 2 or 3 # 2"
   ]
  },
  {
   "cell_type": "code",
   "execution_count": 197,
   "id": "ffa34ee0-a279-47d2-9202-c1da3fb12076",
   "metadata": {},
   "outputs": [
    {
     "data": {
      "text/plain": [
       "2"
      ]
     },
     "execution_count": 197,
     "metadata": {},
     "output_type": "execute_result"
    }
   ],
   "source": [
    "logical_compare5"
   ]
  },
  {
   "cell_type": "code",
   "execution_count": 198,
   "id": "2d6a8970-db68-43fa-9eef-674e1c0047b2",
   "metadata": {},
   "outputs": [],
   "source": [
    "logical_compare6 = not True # False"
   ]
  },
  {
   "cell_type": "code",
   "execution_count": 199,
   "id": "612efef3-53c0-41eb-9d95-1b48f9eeaf84",
   "metadata": {},
   "outputs": [
    {
     "data": {
      "text/plain": [
       "False"
      ]
     },
     "execution_count": 199,
     "metadata": {},
     "output_type": "execute_result"
    }
   ],
   "source": [
    "logical_compare6"
   ]
  },
  {
   "cell_type": "code",
   "execution_count": 200,
   "id": "d0552c58-1c50-4283-a6fb-868c17746c51",
   "metadata": {},
   "outputs": [],
   "source": [
    "logical_compare7 = False and 2 # False"
   ]
  },
  {
   "cell_type": "code",
   "execution_count": 201,
   "id": "a669e8d1-fc96-4e80-ac3c-b45ace8dbcf8",
   "metadata": {},
   "outputs": [
    {
     "data": {
      "text/plain": [
       "False"
      ]
     },
     "execution_count": 201,
     "metadata": {},
     "output_type": "execute_result"
    }
   ],
   "source": [
    "logical_compare7"
   ]
  },
  {
   "cell_type": "code",
   "execution_count": 204,
   "id": "a87d965c-6296-4308-9d9f-794567c818e7",
   "metadata": {},
   "outputs": [
    {
     "name": "stdout",
     "output_type": "stream",
     "text": [
      "[] True 0 2 2 False False\n"
     ]
    }
   ],
   "source": [
    "print(logical_compare, logical_compare2, logical_compare3, logical_compare4, logical_compare5, logical_compare6, logical_compare7)"
   ]
  },
  {
   "cell_type": "markdown",
   "id": "b65744fd-bd14-4b41-a6d1-8252f11cb472",
   "metadata": {},
   "source": [
    "# Creating_Functions"
   ]
  },
  {
   "cell_type": "code",
   "execution_count": 1,
   "id": "fd7d3a48-6c5a-44ed-8bc4-a7368937f32e",
   "metadata": {},
   "outputs": [],
   "source": [
    "travel_destinations = ['argentina', 'mexico', 'italy', 'finland', 'canada', 'croatia']\n",
    "def number_of_destinations():\n",
    "    counter=0\n",
    "    for country in travel_destinations:\n",
    "        counter += 1\n",
    "    return counter"
   ]
  },
  {
   "cell_type": "code",
   "execution_count": 2,
   "id": "251575fb-1fcf-4fe7-a9c4-a66bb18446bd",
   "metadata": {},
   "outputs": [
    {
     "data": {
      "text/plain": [
       "6"
      ]
     },
     "execution_count": 2,
     "metadata": {},
     "output_type": "execute_result"
    }
   ],
   "source": [
    "number_of_destinations()"
   ]
  },
  {
   "cell_type": "code",
   "execution_count": 3,
   "id": "b464dc0d-ab32-4b99-b566-9169c53e4f3d",
   "metadata": {},
   "outputs": [],
   "source": [
    "def next_up():\n",
    "    return travel_destinations[0]"
   ]
  },
  {
   "cell_type": "code",
   "execution_count": 4,
   "id": "cfc54953-8cb6-4c39-ad54-86f52a5e9d5d",
   "metadata": {},
   "outputs": [
    {
     "data": {
      "text/plain": [
       "'argentina'"
      ]
     },
     "execution_count": 4,
     "metadata": {},
     "output_type": "execute_result"
    }
   ],
   "source": [
    "next_up()"
   ]
  },
  {
   "cell_type": "code",
   "execution_count": 5,
   "id": "38429952-4c54-4dc3-a95b-6e4ca2d3654b",
   "metadata": {},
   "outputs": [],
   "source": [
    "def favorite_destination():\n",
    "    return travel_destinations[-1]"
   ]
  },
  {
   "cell_type": "code",
   "execution_count": 6,
   "id": "53c20602-455a-4f23-99ee-b988d18d76d7",
   "metadata": {},
   "outputs": [
    {
     "data": {
      "text/plain": [
       "'croatia'"
      ]
     },
     "execution_count": 6,
     "metadata": {},
     "output_type": "execute_result"
    }
   ],
   "source": [
    "favorite_destination()"
   ]
  },
  {
   "cell_type": "code",
   "execution_count": 7,
   "id": "b1c77ed4-1613-4299-b18c-6d672583b57e",
   "metadata": {},
   "outputs": [],
   "source": [
    "def add_favorite_destination():\n",
    "    travel_destinations.append('madagascar')"
   ]
  },
  {
   "cell_type": "code",
   "execution_count": 9,
   "id": "3f502262-86cc-407f-82dd-68a0c9ed066d",
   "metadata": {},
   "outputs": [],
   "source": [
    "add_favorite_destination()"
   ]
  },
  {
   "cell_type": "code",
   "execution_count": 10,
   "id": "913be8d5-bca9-4ad0-8b39-016a24edc729",
   "metadata": {},
   "outputs": [
    {
     "data": {
      "text/plain": [
       "['argentina', 'mexico', 'italy', 'finland', 'canada', 'croatia', 'madagascar']"
      ]
     },
     "execution_count": 10,
     "metadata": {},
     "output_type": "execute_result"
    }
   ],
   "source": [
    "travel_destinations"
   ]
  },
  {
   "cell_type": "code",
   "execution_count": 37,
   "id": "2b610d4b-ab9a-49d5-845d-4133ef23836f",
   "metadata": {},
   "outputs": [],
   "source": [
    "capitalized_destinations = ['argentina', 'mexico', 'italy', 'finland', 'canada', 'croatia', 'madagascar']\n",
    "\n",
    "def capitalize_countries():\n",
    "    for i in range(len(capitalized_destinations)):\n",
    "        capitalized_destinations[i] = capitalized_destinations[i].title()"
   ]
  },
  {
   "cell_type": "code",
   "execution_count": 38,
   "id": "854603db-6236-4517-b4ff-9ae86e4d939d",
   "metadata": {},
   "outputs": [],
   "source": [
    "capitalize_countries()"
   ]
  },
  {
   "cell_type": "code",
   "execution_count": 39,
   "id": "f9ed8a20-1085-499a-90a6-f32a831dda36",
   "metadata": {},
   "outputs": [
    {
     "data": {
      "text/plain": [
       "['Argentina', 'Mexico', 'Italy', 'Finland', 'Canada', 'Croatia', 'Madagascar']"
      ]
     },
     "execution_count": 39,
     "metadata": {},
     "output_type": "execute_result"
    }
   ],
   "source": [
    "capitalized_destinations"
   ]
  },
  {
   "cell_type": "markdown",
   "id": "8a7d8cca-32cf-444b-9648-6c11d5c824d3",
   "metadata": {},
   "source": [
    "# Functions_with_Arguments"
   ]
  },
  {
   "cell_type": "code",
   "execution_count": 1,
   "id": "c06e3eb4-a12c-4467-b9e3-b6d3369c565b",
   "metadata": {},
   "outputs": [],
   "source": [
    "# Run this cell without changes\n",
    "\n",
    "fork_fig = {'categories': [{'alias': 'burgers', 'title': 'Burgers'},\n",
    "\n",
    " {'alias': 'sandwiches', 'title': 'Sandwiches'},\n",
    "\n",
    " {'alias': 'salad', 'title': 'Salad'}],\n",
    "\n",
    "'coordinates': {'latitude': 35.10871, 'longitude': -106.56739},\n",
    "\n",
    "'display_phone': '(505) 881-5293',\n",
    "\n",
    "'distance': 3571.724649307866,\n",
    "\n",
    "'id': 'fork-and-fig-albuquerque',\n",
    "\n",
    "'image_url': 'https://s3-media1.fl.yelpcdn.com/bphoto/_-DpXKfS3jv6DyA47g6Fxg/o.jpg',\n",
    "\n",
    "'is_closed': False,\n",
    "\n",
    "'location': {'address1': '6904 Menaul Blvd NE',\n",
    "\n",
    " 'address2': 'Ste C',\n",
    "\n",
    " 'address3': '',\n",
    "\n",
    " 'city': 'Albuquerque',\n",
    "\n",
    " 'country': 'US',\n",
    "\n",
    " 'display_address': ['6904 Menaul Blvd NE', 'Ste C', 'Albuquerque, NM 87110'],\n",
    "\n",
    " 'state': 'NM',\n",
    "\n",
    " 'zip_code': '87110'},\n",
    "\n",
    "'name': 'Fork & Fig',\n",
    "\n",
    "'phone': '+15058815293',\n",
    "\n",
    "'price': '$$',\n",
    "\n",
    "'rating': 4.5,\n",
    "\n",
    "'review_count': 604,\n",
    "\n",
    "'transactions': [],\n",
    "\n",
    "'url': 'https://www.yelp.com/biz/fork-and-fig-albuquerque?adjust_creative=SYc8R4Gowqru5h4SBKZXsQ&utm_campaign=yelp_api_v3&utm_medium=api_v3_business_search&utm_source=SYc8R4Gowqru5h4SBKZXsQ'}"
   ]
  },
  {
   "cell_type": "code",
   "execution_count": 2,
   "id": "0ffe1ab9-0407-46a6-9c61-7344f0fb7033",
   "metadata": {},
   "outputs": [],
   "source": [
    "# Run this cell without changes\n",
    "\n",
    "frontier_restaurant = {'categories': [{'alias': 'mexican', 'title': 'Mexican'},\n",
    "\n",
    " {'alias': 'diners', 'title': 'Diners'},\n",
    "\n",
    " {'alias': 'tradamerican', 'title': 'American (Traditional)'}],\n",
    "\n",
    "'coordinates': {'latitude': 35.0808088832532, 'longitude': -106.619402244687},\n",
    "\n",
    "'display_phone': '(505) 266-0550',\n",
    "\n",
    "'distance': 4033.6583235266075,\n",
    "\n",
    "'id': 'frontier-restaurant-albuquerque-2',\n",
    "\n",
    "'image_url': 'https://s3-media4.fl.yelpcdn.com/bphoto/M9L2z6-G0NobuDJ6YTh6VA/o.jpg',\n",
    "\n",
    "'is_closed': False,\n",
    "\n",
    "'location': {'address1': '2400 Central Ave SE',\n",
    "\n",
    " 'address2': '',\n",
    "\n",
    " 'address3': '',\n",
    "\n",
    " 'city': 'Albuquerque',\n",
    "\n",
    " 'country': 'US',\n",
    "\n",
    " 'display_address': ['2400 Central Ave SE', 'Albuquerque, NM 87106'],\n",
    "\n",
    " 'state': 'NM',\n",
    "\n",
    " 'zip_code': '87106'},\n",
    "\n",
    "'name': 'Frontier Restaurant',\n",
    "\n",
    "'phone': '+15052660550',\n",
    "\n",
    "'price': '$',\n",
    "\n",
    "'rating': 4.0,\n",
    "\n",
    "'review_count': 1369,\n",
    "\n",
    "'transactions': [],\n",
    "\n",
    "'url': 'https://www.yelp.com/biz/frontier-restaurant-albuquerque-2?adjust_creative=SYc8R4Gowqru5h4SBKZXsQ&utm_campaign=yelp_api_v3&utm_medium=api_v3_business_search&utm_source=SYc8R4Gowqru5h4SBKZXsQ'}"
   ]
  },
  {
   "cell_type": "code",
   "execution_count": 3,
   "id": "b775be37-c976-4ec1-bc7a-ff72a252f851",
   "metadata": {},
   "outputs": [
    {
     "data": {
      "text/plain": [
       "dict_keys(['categories', 'coordinates', 'display_phone', 'distance', 'id', 'image_url', 'is_closed', 'location', 'name', 'phone', 'price', 'rating', 'review_count', 'transactions', 'url'])"
      ]
     },
     "execution_count": 3,
     "metadata": {},
     "output_type": "execute_result"
    }
   ],
   "source": [
    "# Run this cell without changes\n",
    "\n",
    "fork_fig.keys()"
   ]
  },
  {
   "cell_type": "code",
   "execution_count": 4,
   "id": "26915d95-4089-4403-89df-a1b8ca30e063",
   "metadata": {},
   "outputs": [
    {
     "data": {
      "text/plain": [
       "dict_keys(['categories', 'coordinates', 'display_phone', 'distance', 'id', 'image_url', 'is_closed', 'location', 'name', 'phone', 'price', 'rating', 'review_count', 'transactions', 'url'])"
      ]
     },
     "execution_count": 4,
     "metadata": {},
     "output_type": "execute_result"
    }
   ],
   "source": [
    "# Run this cell without changes\n",
    "\n",
    "frontier_restaurant.keys()"
   ]
  },
  {
   "cell_type": "code",
   "execution_count": 5,
   "id": "175fb289-b609-4914-a7ce-c19853d3f66b",
   "metadata": {},
   "outputs": [
    {
     "data": {
      "text/plain": [
       "True"
      ]
     },
     "execution_count": 5,
     "metadata": {},
     "output_type": "execute_result"
    }
   ],
   "source": [
    "# Run this cell without changes\n",
    "\n",
    "fork_fig.keys() == frontier_restaurant.keys()"
   ]
  },
  {
   "cell_type": "code",
   "execution_count": 13,
   "id": "85a4da21-17f8-4a3e-a8ec-5bf0e28ba60a",
   "metadata": {},
   "outputs": [],
   "source": [
    "def restaurant_name(restaurant):\n",
    "    print (restaurant['name'])"
   ]
  },
  {
   "cell_type": "code",
   "execution_count": 17,
   "id": "aa4e78c1-9ff4-4f3d-a974-83ef1576c8cf",
   "metadata": {},
   "outputs": [
    {
     "name": "stdout",
     "output_type": "stream",
     "text": [
      "Fork & Fig\n"
     ]
    }
   ],
   "source": [
    "restaurant_name(fork_fig)"
   ]
  },
  {
   "cell_type": "code",
   "execution_count": 18,
   "id": "293ff25d-808c-473b-8a93-29693690a4a6",
   "metadata": {},
   "outputs": [],
   "source": [
    "def is_better(restaurant, alternative):\n",
    "    return True if restaurant > alternative else False"
   ]
  },
  {
   "cell_type": "code",
   "execution_count": 22,
   "id": "f6471483-8e7f-4b17-833f-757ae59c2507",
   "metadata": {},
   "outputs": [
    {
     "data": {
      "text/plain": [
       "False"
      ]
     },
     "execution_count": 22,
     "metadata": {},
     "output_type": "execute_result"
    }
   ],
   "source": [
    "is_better(frontier_restaurant['rating'], fork_fig['rating'])"
   ]
  },
  {
   "cell_type": "code",
   "execution_count": 23,
   "id": "783cb302-b11a-4987-97b3-6606886f88f7",
   "metadata": {},
   "outputs": [
    {
     "data": {
      "text/plain": [
       "True"
      ]
     },
     "execution_count": 23,
     "metadata": {},
     "output_type": "execute_result"
    }
   ],
   "source": [
    "is_better(fork_fig['rating'],frontier_restaurant['rating'])"
   ]
  },
  {
   "cell_type": "code",
   "execution_count": 24,
   "id": "675f06b7-b026-4f13-a9e6-7fd71f306d3a",
   "metadata": {},
   "outputs": [
    {
     "data": {
      "text/plain": [
       "False"
      ]
     },
     "execution_count": 24,
     "metadata": {},
     "output_type": "execute_result"
    }
   ],
   "source": [
    "is_better(1.0, 1.0)"
   ]
  },
  {
   "cell_type": "code",
   "execution_count": 38,
   "id": "5557504c-3173-4fba-b312-d9143121663b",
   "metadata": {},
   "outputs": [],
   "source": [
    "dennys = {'categories': [{'alias': 'breakfast', 'title': 'Breakfast'},\n",
    "{'alias': 'diners', 'title': 'Diners'},\n",
    "{'alias': 'tradamerican', 'title': 'American (Traditional)'}],\n",
    "'is_closed': False,\n",
    "'name': \"Denny's\",\n",
    "'price': '$',\n",
    "'rating': 3.0,\n",
    "'review_count': 1200}\n",
    "\n",
    "ihop = {'categories': [{'alias': 'breakfast', 'title': 'Breakfast'},\n",
    "{'alias': 'diners', 'title': 'Diners'},\n",
    "{'alias': 'tradamerican', 'title': 'American (Traditional)'}],\n",
    "'is_closed': False,\n",
    "'name': \"IHOP: International House of Pancakes\",\n",
    "'price': '$',\n",
    "'rating': 3.45,\n",
    "'review_count': 1588}\n",
    "\n",
    "mcdonalds = {'categories': [{'alias': 'breakfast', 'title': 'Breakfast'},\n",
    "{'alias': 'burgers', 'title': 'Burgers'},\n",
    "{'alias': 'fast food', 'title': 'Good Food Fast'}],\n",
    "'is_closed': False,\n",
    "'name': \"McDonalds\",\n",
    "'price': '$',\n",
    "'rating': 3.45,\n",
    "'review_count': 2455}\n",
    "\n",
    "pearl_street_oyster_bar = {'categories': [{'alias': 'seafood', 'title': 'Seafood'},\n",
    "{'alias': 'gourmet', 'title': 'Gourmet'},\n",
    "{'alias': 'Shellfish', 'title': 'Shellfish'}],\n",
    "'is_closed': False,\n",
    "'name': \"Pear Street Oyster Bar\",\n",
    "'price': '$$$',\n",
    "'rating': 4.75,\n",
    "'review_count': 350}"
   ]
  },
  {
   "cell_type": "code",
   "execution_count": 39,
   "id": "9e1e929d-9dd6-43e6-8d67-952a1058946f",
   "metadata": {},
   "outputs": [],
   "source": [
    "# Run this cell without changes\n",
    "\n",
    "restaurant_list = [pearl_street_oyster_bar, mcdonalds, ihop, dennys, fork_fig, frontier_restaurant]"
   ]
  },
  {
   "cell_type": "code",
   "execution_count": 40,
   "id": "534a8cf9-449a-4e20-94a4-1142ddbd823b",
   "metadata": {},
   "outputs": [],
   "source": [
    "def mean_review_count(list_of_restaurants):\n",
    "    counter=0\n",
    "    for restaurant in list_of_restaurants:\n",
    "        counter = counter + restaurant['review_count']\n",
    "    return counter/len(list_of_restaurants)"
   ]
  },
  {
   "cell_type": "code",
   "execution_count": 42,
   "id": "3cf02562-872b-4ab7-81ad-6dd6a6bdec91",
   "metadata": {},
   "outputs": [
    {
     "data": {
      "text/plain": [
       "1261.0"
      ]
     },
     "execution_count": 42,
     "metadata": {},
     "output_type": "execute_result"
    }
   ],
   "source": [
    "mean_review_count(restaurant_list)"
   ]
  },
  {
   "cell_type": "markdown",
   "id": "cebd7f2c-b346-4bb1-88b6-923672d04988",
   "metadata": {},
   "source": [
    "# Input and Output"
   ]
  },
  {
   "cell_type": "code",
   "execution_count": 46,
   "id": "45c63797-d04c-4bdb-81a9-b4f3b7a29653",
   "metadata": {},
   "outputs": [
    {
     "name": "stdin",
     "output_type": "stream",
     "text": [
      "Give me your name:  Warui\n"
     ]
    }
   ],
   "source": [
    "name = input(\"Give me your name: \")"
   ]
  },
  {
   "cell_type": "code",
   "execution_count": 47,
   "id": "cf350c3e-9a94-4763-8e3e-58e835b568f3",
   "metadata": {},
   "outputs": [
    {
     "name": "stdout",
     "output_type": "stream",
     "text": [
      "You name is Warui\n"
     ]
    }
   ],
   "source": [
    "print(\"You name is \" + name) "
   ]
  },
  {
   "cell_type": "code",
   "execution_count": 48,
   "id": "02f76f1b-d82e-48f2-9a5c-f3148caebad4",
   "metadata": {},
   "outputs": [
    {
     "name": "stdin",
     "output_type": "stream",
     "text": [
      "Enter your age:  42\n"
     ]
    }
   ],
   "source": [
    "age = input(\"Enter your age: \")"
   ]
  },
  {
   "cell_type": "code",
   "execution_count": 49,
   "id": "2d0d9a01-e401-4418-a7e1-a12dfd2852ab",
   "metadata": {},
   "outputs": [],
   "source": [
    "age = int(age)"
   ]
  },
  {
   "cell_type": "code",
   "execution_count": 50,
   "id": "d48812ce-cdc4-4862-8036-a71537ad6c7b",
   "metadata": {},
   "outputs": [
    {
     "name": "stdout",
     "output_type": "stream",
     "text": [
      "You are 42 years old\n"
     ]
    }
   ],
   "source": [
    "print (\"You are\", age , \"years old\" )"
   ]
  },
  {
   "cell_type": "code",
   "execution_count": 51,
   "id": "88fd4b2b-4fa4-4b4f-bc54-fcf27af27d6d",
   "metadata": {},
   "outputs": [
    {
     "name": "stdout",
     "output_type": "stream",
     "text": [
      "You are 42 years old\n"
     ]
    }
   ],
   "source": [
    "print (\"You are \" + str(age) + \" years old\")"
   ]
  },
  {
   "cell_type": "code",
   "execution_count": 52,
   "id": "022edfa1-15de-4f87-9bab-95a454f19283",
   "metadata": {},
   "outputs": [
    {
     "name": "stdin",
     "output_type": "stream",
     "text": [
      "What is your name:  Warui\n",
      "How old are you:  42\n",
      "What is the current year:  2024\n"
     ]
    },
    {
     "name": "stdout",
     "output_type": "stream",
     "text": [
      "Warui will be 100 years old in the year 2082\n"
     ]
    }
   ],
   "source": [
    "name = input(\"What is your name: \")\n",
    "\n",
    "age = int(input(\"How old are you: \"))\n",
    "\n",
    "current_year = int(input(\"What is the current year: \"))\n",
    "\n",
    "year = str((current_year - age)+100)\n",
    "\n",
    "print(name + \" will be 100 years old in the year \" + year)"
   ]
  },
  {
   "cell_type": "markdown",
   "id": "ecb060de-5b72-4317-9eb7-d2d9c90eaad6",
   "metadata": {},
   "source": [
    "# Introduction to Numpy"
   ]
  },
  {
   "cell_type": "code",
   "execution_count": 4,
   "id": "c56cf422-4211-427e-9bcb-17ad1309c3d4",
   "metadata": {},
   "outputs": [],
   "source": [
    "import numpy as np"
   ]
  },
  {
   "cell_type": "code",
   "execution_count": 14,
   "id": "ba3bb4a8-009b-47b9-9eae-99daebef996c",
   "metadata": {},
   "outputs": [],
   "source": [
    "py_range=np.full(5,range(5))"
   ]
  },
  {
   "cell_type": "code",
   "execution_count": 15,
   "id": "df8d39d8-5bcf-4914-ab14-97235f638f30",
   "metadata": {},
   "outputs": [],
   "source": [
    "array_from_range = np.array(py_range)"
   ]
  },
  {
   "cell_type": "code",
   "execution_count": 16,
   "id": "cc2e8247-8806-4d78-854c-11a28b6bfdad",
   "metadata": {},
   "outputs": [
    {
     "data": {
      "text/plain": [
       "array([0, 1, 2, 3, 4])"
      ]
     },
     "execution_count": 16,
     "metadata": {},
     "output_type": "execute_result"
    }
   ],
   "source": [
    "array_from_range"
   ]
  },
  {
   "cell_type": "code",
   "execution_count": 17,
   "id": "5b06b424-7ab1-4d4e-8007-a358b2554fb8",
   "metadata": {},
   "outputs": [],
   "source": [
    "py_list = [0,1,2,3,4]"
   ]
  },
  {
   "cell_type": "code",
   "execution_count": 18,
   "id": "f07f2a6c-60d4-45e7-a154-dcdfce3ee1fd",
   "metadata": {},
   "outputs": [],
   "source": [
    "array_from_list = np.array(py_list)"
   ]
  },
  {
   "cell_type": "code",
   "execution_count": 19,
   "id": "a82697cd-5159-4a38-a0cd-e576e7745000",
   "metadata": {},
   "outputs": [
    {
     "data": {
      "text/plain": [
       "array([0, 1, 2, 3, 4])"
      ]
     },
     "execution_count": 19,
     "metadata": {},
     "output_type": "execute_result"
    }
   ],
   "source": [
    "array_from_list"
   ]
  },
  {
   "cell_type": "code",
   "execution_count": 24,
   "id": "370bd4d7-7ad2-47d8-8e02-de8fbd7b2e7a",
   "metadata": {},
   "outputs": [],
   "source": [
    "# Use the conversion rate for turning height in inches to meters\n",
    "\n",
    "list_height_inches = [65, 68, 73, 75, 78]\n",
    "\n",
    "# Your code here\n",
    "\n",
    "array_height_inches = np.array(list_height_inches)\n",
    "\n",
    "array_height_meters = np.multiply(np.array(list_height_inches),0.0254)"
   ]
  },
  {
   "cell_type": "code",
   "execution_count": 21,
   "id": "4339e9ca-65bb-4423-9284-5f66ad1a7f08",
   "metadata": {},
   "outputs": [
    {
     "data": {
      "text/plain": [
       "array([1.651 , 1.7272, 1.8542, 1.905 , 1.9812])"
      ]
     },
     "execution_count": 21,
     "metadata": {},
     "output_type": "execute_result"
    }
   ],
   "source": [
    "array_height_meters"
   ]
  },
  {
   "cell_type": "code",
   "execution_count": 22,
   "id": "7699d389-ce63-4ddb-8182-0bf27bc853de",
   "metadata": {},
   "outputs": [
    {
     "data": {
      "text/plain": [
       "array([65, 68, 73, 75, 78])"
      ]
     },
     "execution_count": 22,
     "metadata": {},
     "output_type": "execute_result"
    }
   ],
   "source": [
    "array_height_inches"
   ]
  },
  {
   "cell_type": "code",
   "execution_count": 25,
   "id": "0a7bdfc8-f9b7-4d4f-8749-f817d30696b1",
   "metadata": {},
   "outputs": [],
   "source": [
    "# Use the conversion rate for turning height in inches to meters\n",
    "\n",
    "list_weight_pounds = [150, 140, 220, 205, 265]\n",
    "\n",
    "# Your code here\n",
    "\n",
    "array_weight_pounds = np.array(list_weight_pounds)\n",
    "\n",
    "array_weight_kgs = np.divide(np.array(list_weight_pounds),2.2046)"
   ]
  },
  {
   "cell_type": "code",
   "execution_count": 26,
   "id": "3806e79c-28ab-4a29-82d1-824940729858",
   "metadata": {},
   "outputs": [
    {
     "data": {
      "text/plain": [
       "array([ 68.03955366,  63.50358342,  99.79134537,  92.98739   ,\n",
       "       120.20321147])"
      ]
     },
     "execution_count": 26,
     "metadata": {},
     "output_type": "execute_result"
    }
   ],
   "source": [
    "array_weight_kgs"
   ]
  },
  {
   "cell_type": "code",
   "execution_count": 27,
   "id": "4a44442e-e0f0-46f2-ba47-acedb0609aa3",
   "metadata": {},
   "outputs": [],
   "source": [
    "# BMI = weight (kg) ÷ height^2 (m^2)\n",
    "BMI=array_weight_kgs/(array_height_meters)**2"
   ]
  },
  {
   "cell_type": "code",
   "execution_count": 28,
   "id": "af6a5c6a-3437-48cd-aac8-1c3e481ecaae",
   "metadata": {},
   "outputs": [
    {
     "data": {
      "text/plain": [
       "array([24.9613063 , 21.28692715, 29.02550097, 25.62324316, 30.62382485])"
      ]
     },
     "execution_count": 28,
     "metadata": {},
     "output_type": "execute_result"
    }
   ],
   "source": [
    "BMI"
   ]
  },
  {
   "cell_type": "code",
   "execution_count": 31,
   "id": "fff6bdaf-bac9-45d9-be6a-9ee43c537b88",
   "metadata": {},
   "outputs": [],
   "source": [
    "BMI_array = array_weight_kgs/ np.power(array_height_meters,2)"
   ]
  },
  {
   "cell_type": "code",
   "execution_count": 32,
   "id": "24b15378-f8db-4f5f-aa37-6a71bc018e20",
   "metadata": {},
   "outputs": [
    {
     "data": {
      "text/plain": [
       "array([24.9613063 , 21.28692715, 29.02550097, 25.62324316, 30.62382485])"
      ]
     },
     "execution_count": 32,
     "metadata": {},
     "output_type": "execute_result"
    }
   ],
   "source": [
    "BMI_array"
   ]
  },
  {
   "cell_type": "code",
   "execution_count": 33,
   "id": "0f7d51d4-af47-4332-ad74-476040d932b7",
   "metadata": {},
   "outputs": [
    {
     "data": {
      "text/plain": [
       "array([24.96, 21.29, 29.03, 25.62, 30.62])"
      ]
     },
     "execution_count": 33,
     "metadata": {},
     "output_type": "execute_result"
    }
   ],
   "source": [
    "np.around(BMI_array,2)"
   ]
  },
  {
   "cell_type": "code",
   "execution_count": 34,
   "id": "f443eb72-d7ae-4218-91b6-00f5459428fd",
   "metadata": {},
   "outputs": [],
   "source": [
    "# Your code here\n",
    "\n",
    "identity = np.ones(BMI_array.shape)"
   ]
  },
  {
   "cell_type": "code",
   "execution_count": 35,
   "id": "ae6ef50e-9059-411f-9790-5f1290b26c01",
   "metadata": {},
   "outputs": [
    {
     "data": {
      "text/plain": [
       "array([1., 1., 1., 1., 1.])"
      ]
     },
     "execution_count": 35,
     "metadata": {},
     "output_type": "execute_result"
    }
   ],
   "source": [
    "identity"
   ]
  },
  {
   "cell_type": "code",
   "execution_count": 36,
   "id": "5e022a7e-773c-4ac3-b368-4ae1619c5306",
   "metadata": {},
   "outputs": [],
   "source": [
    "BMI_array=BMI_array*identity"
   ]
  },
  {
   "cell_type": "code",
   "execution_count": 37,
   "id": "0b96c2ea-8e3b-4148-98df-2c16de672e54",
   "metadata": {},
   "outputs": [
    {
     "data": {
      "text/plain": [
       "array([24.9613063 , 21.28692715, 29.02550097, 25.62324316, 30.62382485])"
      ]
     },
     "execution_count": 37,
     "metadata": {},
     "output_type": "execute_result"
    }
   ],
   "source": [
    "BMI_array"
   ]
  },
  {
   "cell_type": "markdown",
   "id": "3458efdf-4fca-4952-b648-0e2927261208",
   "metadata": {},
   "source": [
    "# Measures of Central Tendency"
   ]
  },
  {
   "cell_type": "code",
   "execution_count": null,
   "id": "b818619d-653a-4399-b5f1-7a1677a0caa3",
   "metadata": {},
   "outputs": [],
   "source": []
  }
 ],
 "metadata": {
  "kernelspec": {
   "display_name": "Python 3 (ipykernel)",
   "language": "python",
   "name": "python3"
  },
  "language_info": {
   "codemirror_mode": {
    "name": "ipython",
    "version": 3
   },
   "file_extension": ".py",
   "mimetype": "text/x-python",
   "name": "python",
   "nbconvert_exporter": "python",
   "pygments_lexer": "ipython3",
   "version": "3.11.7"
  }
 },
 "nbformat": 4,
 "nbformat_minor": 5
}
